{
 "cells": [
  {
   "cell_type": "markdown",
   "metadata": {},
   "source": [
    "# Row reduction and LU decomposition"
   ]
  },
  {
   "cell_type": "code",
   "execution_count": 1,
   "metadata": {},
   "outputs": [],
   "source": [
    "import numpy as np \n",
    "import pandas as pd \n",
    "import matplotlib.pyplot as plt"
   ]
  },
  {
   "cell_type": "markdown",
   "metadata": {},
   "source": [
    "## 1. Systems of Equation \n",
    "- Hệ phương trình là tập các phương trình có mối quan hệ với nhau \n",
    "- Cách tiếp cận giải hệ phương trình đó là nhân vô hướng hai vế của phương trình và trừ chúng đi lẫn nhau"
   ]
  },
  {
   "cell_type": "markdown",
   "metadata": {},
   "source": [
    "### Converting equations into Matrices \n",
    "- Có thể chuyển đổi một hệ phương trình thành một matrix cho việc tìm nghiệm. Thay đổi với 2 bước : \n",
    "    1. chia đẳng thức thành constant ở bên phải và chứa biến ở bên trái $$ \\begin{cases} x + y = 4 \\\\ - \\frac{x}{2} + y = 2 \\end{cases} $$ \n",
    "    2. Với vế trái, tách các hệ số (coeficients) thành "
   ]
  }
 ],
 "metadata": {
  "kernelspec": {
   "display_name": "cs197",
   "language": "python",
   "name": "python3"
  },
  "language_info": {
   "codemirror_mode": {
    "name": "ipython",
    "version": 3
   },
   "file_extension": ".py",
   "mimetype": "text/x-python",
   "name": "python",
   "nbconvert_exporter": "python",
   "pygments_lexer": "ipython3",
   "version": "3.9.0"
  }
 },
 "nbformat": 4,
 "nbformat_minor": 2
}
