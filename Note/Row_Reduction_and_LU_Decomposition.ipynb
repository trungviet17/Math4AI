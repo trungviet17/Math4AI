{
 "cells": [
  {
   "cell_type": "markdown",
   "metadata": {},
   "source": [
    "# Row reduction and LU decomposition"
   ]
  },
  {
   "cell_type": "code",
   "execution_count": 1,
   "metadata": {},
   "outputs": [],
   "source": [
    "import numpy as np \n",
    "import pandas as pd \n",
    "import matplotlib.pyplot as plt"
   ]
  },
  {
   "cell_type": "markdown",
   "metadata": {},
   "source": [
    "## 1. Systems of Equation \n",
    "- Hệ phương trình là tập các phương trình có mối quan hệ với nhau \n",
    "- Cách tiếp cận giải hệ phương trình đó là nhân vô hướng hai vế của phương trình và trừ chúng đi lẫn nhau"
   ]
  },
  {
   "cell_type": "markdown",
   "metadata": {},
   "source": [
    "### Converting equations into Matrices \n",
    "- Có thể chuyển đổi một hệ phương trình thành một matrix cho việc tìm nghiệm. Thay đổi với 2 bước : \n",
    "    1. chia đẳng thức thành constant ở bên phải và chứa biến ở bên trái $$ \\begin{cases} x + y = 4 \\\\ - \\frac{x}{2} + y = 2 \\end{cases} $$ \n",
    "    2. Với vế trái, tách các hệ số (coeficients) thành một matrix với một row mỗi hệ số đó, vector biến được đặt theo chiều dọc và kết quả. Đẳng thức sẽ được chuyển thành phép toán có dạng : $$ Ax = b $$ \n"
   ]
  },
  {
   "cell_type": "markdown",
   "metadata": {},
   "source": [
    "### Working with Matrix Equations \n",
    "- Ta có thể sử dụng matrix equation tương tự như với các đẳng thức thông thường (phép norm, adding, multiplying, transposing, .... )\n",
    "- Điều khác biết khi sử dụng các đẳng thức ma trận đó là phép nhân ma trận phụ thuộc vào chiều (side-dependent), phải nhân cùng một chiều với cả 2 bên đẳng thức \n",
    "$$ AX = B \\\\  CAX = CB $$ "
   ]
  },
  {
   "cell_type": "code",
   "execution_count": 2,
   "metadata": {},
   "outputs": [],
   "source": [
    "# ví dụ về giải bài toán chiều của matrix \n",
    "A = np.random.randn(4, 4)\n",
    "B = np.random.randn(4, 4)\n",
    "\n",
    "X1 = np.linalg.inv(A) @ B \n",
    "X2 = B @ np.linalg.inv(A)"
   ]
  },
  {
   "cell_type": "code",
   "execution_count": 3,
   "metadata": {},
   "outputs": [
    {
     "data": {
      "text/plain": [
       "array([[-1.11022302e-16,  5.55111512e-17,  0.00000000e+00,\n",
       "         2.22044605e-16],\n",
       "       [ 5.55111512e-17,  0.00000000e+00,  0.00000000e+00,\n",
       "        -2.22044605e-16],\n",
       "       [-4.44089210e-16,  0.00000000e+00, -5.55111512e-17,\n",
       "         0.00000000e+00],\n",
       "       [-8.32667268e-17,  0.00000000e+00,  0.00000000e+00,\n",
       "         0.00000000e+00]])"
      ]
     },
     "execution_count": 3,
     "metadata": {},
     "output_type": "execute_result"
    }
   ],
   "source": [
    "res1 = A @ X1 - B \n",
    "res1 "
   ]
  },
  {
   "cell_type": "code",
   "execution_count": 4,
   "metadata": {},
   "outputs": [
    {
     "data": {
      "text/plain": [
       "array([[-1.06149943,  1.85941999,  3.24201534,  0.09024697],\n",
       "       [-0.49302033,  0.3704671 , -1.49037043, -2.73280127],\n",
       "       [ 6.07783223,  0.26248483,  1.77604857, -0.64761456],\n",
       "       [ 0.00805797, -0.98327359,  2.27186999, -1.08501623]])"
      ]
     },
     "execution_count": 4,
     "metadata": {},
     "output_type": "execute_result"
    }
   ],
   "source": [
    "res2 = A@X2 - B\n",
    "res2"
   ]
  },
  {
   "cell_type": "markdown",
   "metadata": {},
   "source": [
    "=> Có thể thấy, với hai các nhân khác nhau, matrix kết quả khác nhau"
   ]
  },
  {
   "cell_type": "markdown",
   "metadata": {},
   "source": [
    "## 2. Row reduction \n",
    "- Row reduction là quá trình thực hiện hai phép toán : nhân vô hướng và cộng các hàng của matrix. \n",
    "- Mục tiêu chính của row reduction đó là chuyển đổi ma trận dày (dense matrix) thành một matrix tam giá trên (kết quả được gọi là echelon form).\n",
    "- Ma trận sau khi được giảm chiều khác với ma trận trước khi giảm chiều,  nhưng hai ma trận được link với nhau bởi một ma trận tuy\n",
    "- Người ta thường gọi ma trận link đó là $ L^{-1} $ hay trong LU decomposition có : $$ A = LU $$ với U là một matrix upper triangular và L là một transform matrix.\n",
    "- Thông qua việc nhân vô hướng, có thể thấy có vô số U (echelon form)\n",
    "\n"
   ]
  },
  {
   "cell_type": "code",
   "execution_count": 5,
   "metadata": {},
   "outputs": [
    {
     "name": "stdout",
     "output_type": "stream",
     "text": [
      "[[-2.06212441e+00 -3.42423110e-02 -9.50522660e-01  5.66040696e-01]\n",
      " [ 0.00000000e+00  1.56886657e+00 -1.64343002e-01  5.66941719e-01]\n",
      " [ 0.00000000e+00  1.08157662e-03  2.97781428e+00  6.07665527e-02]\n",
      " [ 0.00000000e+00  4.59662727e-01  1.22501611e-01 -1.12028897e+00]]\n"
     ]
    }
   ],
   "source": [
    "def first_col_zeros(A: np.array) : \n",
    "    B = np.copy(A)\n",
    "\n",
    "    for i in range(1, len(B)): \n",
    "        B[i] = B[i] - (B[i, 0]  /  B[0, 0]) * B[0]\n",
    "\n",
    "    return B\n",
    "\n",
    "reduced_matrix = first_col_zeros(A)\n",
    "print(reduced_matrix)"
   ]
  },
  {
   "cell_type": "markdown",
   "metadata": {},
   "source": [
    "### Gaussian Elimination \n",
    "- Kĩ thuật khử Gaussian có thể giải được một phương trình matrix tuyến tính mà không cần tính inverse matrix.  \n",
    "- Kĩ thuật này biến đổi matrix hệ số về dạng echelon form. Từ đó giải từng nghiệm của bài toán và thế ngược lại vào nghiệm trên"
   ]
  }
 ],
 "metadata": {
  "kernelspec": {
   "display_name": "cs197",
   "language": "python",
   "name": "python3"
  },
  "language_info": {
   "codemirror_mode": {
    "name": "ipython",
    "version": 3
   },
   "file_extension": ".py",
   "mimetype": "text/x-python",
   "name": "python",
   "nbconvert_exporter": "python",
   "pygments_lexer": "ipython3",
   "version": "3.11.9"
  }
 },
 "nbformat": 4,
 "nbformat_minor": 2
}
