{
 "cells": [
  {
   "cell_type": "markdown",
   "metadata": {},
   "source": [
    "# Introduction"
   ]
  },
  {
   "cell_type": "code",
   "execution_count": 2,
   "metadata": {},
   "outputs": [],
   "source": [
    "import numpy as np \n",
    "import matplotlib.pyplot as plt \n",
    "import scipy "
   ]
  },
  {
   "cell_type": "markdown",
   "metadata": {},
   "source": [
    "## 1. Creating and Visualizing matrices in Numpy"
   ]
  },
  {
   "cell_type": "markdown",
   "metadata": {},
   "source": [
    "- Ma trận có thể được coi như một tập hợp các vector hàng được xếp chồng lên nhau\n",
    "- Ma trận có thể rất lớn và được dùng để biểu diễn ảnh \n"
   ]
  },
  {
   "cell_type": "code",
   "execution_count": 3,
   "metadata": {},
   "outputs": [
    {
     "data": {
      "text/plain": [
       "array([[ 0,  1,  2,  3,  4,  5,  6,  7,  8,  9],\n",
       "       [10, 11, 12, 13, 14, 15, 16, 17, 18, 19],\n",
       "       [20, 21, 22, 23, 24, 25, 26, 27, 28, 29],\n",
       "       [30, 31, 32, 33, 34, 35, 36, 37, 38, 39],\n",
       "       [40, 41, 42, 43, 44, 45, 46, 47, 48, 49],\n",
       "       [50, 51, 52, 53, 54, 55, 56, 57, 58, 59]])"
      ]
     },
     "execution_count": 3,
     "metadata": {},
     "output_type": "execute_result"
    }
   ],
   "source": [
    "a = np.arange(60).reshape(6,10)\n",
    "a"
   ]
  },
  {
   "cell_type": "code",
   "execution_count": 4,
   "metadata": {},
   "outputs": [
    {
     "data": {
      "text/plain": [
       "array([[10, 11, 12, 13, 14],\n",
       "       [20, 21, 22, 23, 24],\n",
       "       [30, 31, 32, 33, 34]])"
      ]
     },
     "execution_count": 4,
     "metadata": {},
     "output_type": "execute_result"
    }
   ],
   "source": [
    "# slice in numpy matrix\n",
    "sub = a[1:4:1, 0:5:1]\n",
    "sub"
   ]
  },
  {
   "cell_type": "markdown",
   "metadata": {},
   "source": [
    "### Special Matrices \n",
    "- Random number matrix : ma trận chứa các số được tạo ngẫu nhiên từ một số phân bố (Gaussian)"
   ]
  },
  {
   "cell_type": "code",
   "execution_count": 5,
   "metadata": {},
   "outputs": [
    {
     "data": {
      "text/plain": [
       "array([[ 0.2546813 , -0.47428151, -0.04280131,  1.88551248,  0.63893299,\n",
       "        -0.49302969],\n",
       "       [ 0.8056006 , -0.21292812, -0.32676319, -0.8613657 , -0.21084827,\n",
       "         0.0403583 ],\n",
       "       [ 3.2863089 ,  0.44164027,  0.90954993, -0.25203913,  0.77546704,\n",
       "        -0.81553889],\n",
       "       [ 1.06779648,  0.18171058, -0.17089731, -0.79608033,  0.39583788,\n",
       "        -0.66552677]])"
      ]
     },
     "execution_count": 5,
     "metadata": {},
     "output_type": "execute_result"
    }
   ],
   "source": [
    "rows = 4\n",
    "cols = 6 \n",
    "a = np.random.randn(rows, cols)\n",
    "a"
   ]
  },
  {
   "cell_type": "markdown",
   "metadata": {},
   "source": [
    "- Square matrix : là ma trận có cùng số hàng và cột \n",
    "- Nonsquare matrix : là ma trận chữ nhật, không  có cùng hàng, cột "
   ]
  },
  {
   "cell_type": "code",
   "execution_count": 6,
   "metadata": {},
   "outputs": [
    {
     "data": {
      "text/plain": [
       "array([[ 0.96260693, -0.10105327,  0.24412836,  1.51813317],\n",
       "       [-1.29457249, -0.40304745, -0.32978192,  0.00617659],\n",
       "       [-0.82925365,  0.51709114, -0.86408385,  1.49136744],\n",
       "       [ 0.47422395, -0.49319208, -1.93414334,  0.90872141]])"
      ]
     },
     "execution_count": 6,
     "metadata": {},
     "output_type": "execute_result"
    }
   ],
   "source": [
    "sq = np.random.randn(4, 4)\n",
    "sq"
   ]
  },
  {
   "cell_type": "markdown",
   "metadata": {},
   "source": [
    "- Diagonal matrix : là ma trận đường chéo"
   ]
  },
  {
   "cell_type": "code",
   "execution_count": 7,
   "metadata": {},
   "outputs": [
    {
     "data": {
      "text/plain": [
       "array([[7, 0, 0, 0],\n",
       "       [0, 9, 0, 0],\n",
       "       [0, 0, 3, 0],\n",
       "       [0, 0, 0, 2]])"
      ]
     },
     "execution_count": 7,
     "metadata": {},
     "output_type": "execute_result"
    }
   ],
   "source": [
    "tmp = np.array([7, 9, 3, 2])\n",
    "d = np.diag(tmp)\n",
    "d"
   ]
  },
  {
   "cell_type": "markdown",
   "metadata": {},
   "source": [
    "- Triangular : là ma trận mà phần phía trên hoặc phía dưới đều bằng 0 "
   ]
  },
  {
   "cell_type": "code",
   "execution_count": 8,
   "metadata": {},
   "outputs": [
    {
     "data": {
      "text/plain": [
       "array([[ 0.96260693, -0.10105327,  0.24412836,  1.51813317],\n",
       "       [ 0.        , -0.40304745, -0.32978192,  0.00617659],\n",
       "       [ 0.        ,  0.        , -0.86408385,  1.49136744],\n",
       "       [ 0.        ,  0.        ,  0.        ,  0.90872141]])"
      ]
     },
     "execution_count": 8,
     "metadata": {},
     "output_type": "execute_result"
    }
   ],
   "source": [
    "tria_upper = np.triu(sq)\n",
    "tria_upper"
   ]
  },
  {
   "cell_type": "code",
   "execution_count": 9,
   "metadata": {},
   "outputs": [
    {
     "data": {
      "text/plain": [
       "array([[ 0.96260693,  0.        ,  0.        ,  0.        ],\n",
       "       [-1.29457249, -0.40304745,  0.        ,  0.        ],\n",
       "       [-0.82925365,  0.51709114, -0.86408385,  0.        ],\n",
       "       [ 0.47422395, -0.49319208, -1.93414334,  0.90872141]])"
      ]
     },
     "execution_count": 9,
     "metadata": {},
     "output_type": "execute_result"
    }
   ],
   "source": [
    "tria_lower = np.tril(sq)\n",
    "tria_lower"
   ]
  },
  {
   "cell_type": "markdown",
   "metadata": {},
   "source": [
    "- Identity : là ma trận đường chéo mà tất cả phần tử đều bằng 1"
   ]
  },
  {
   "cell_type": "code",
   "execution_count": 10,
   "metadata": {},
   "outputs": [
    {
     "data": {
      "text/plain": [
       "array([[1., 0., 0., 0., 0.],\n",
       "       [0., 1., 0., 0., 0.],\n",
       "       [0., 0., 1., 0., 0.],\n",
       "       [0., 0., 0., 1., 0.],\n",
       "       [0., 0., 0., 0., 1.]])"
      ]
     },
     "execution_count": 10,
     "metadata": {},
     "output_type": "execute_result"
    }
   ],
   "source": [
    "iden = np.eye(5, 5)\n",
    "iden"
   ]
  },
  {
   "cell_type": "markdown",
   "metadata": {},
   "source": [
    "- Zeros : là ma trận mà tất cả các giá trị đều bằng 0"
   ]
  },
  {
   "cell_type": "code",
   "execution_count": 11,
   "metadata": {},
   "outputs": [
    {
     "data": {
      "text/plain": [
       "array([[0., 0., 0., 0., 0.],\n",
       "       [0., 0., 0., 0., 0.],\n",
       "       [0., 0., 0., 0., 0.],\n",
       "       [0., 0., 0., 0., 0.]])"
      ]
     },
     "execution_count": 11,
     "metadata": {},
     "output_type": "execute_result"
    }
   ],
   "source": [
    "zer = np.zeros((4, 5))\n",
    "zer"
   ]
  },
  {
   "cell_type": "markdown",
   "metadata": {},
   "source": [
    "## 2. Matrix Math "
   ]
  },
  {
   "cell_type": "markdown",
   "metadata": {},
   "source": [
    "### Addition and Subtraction\n",
    "- Cộng hai ma trận được xác định khi chúng có cùng một kích thước, cộng tương ứng từng hàng, từng cột"
   ]
  },
  {
   "cell_type": "code",
   "execution_count": 12,
   "metadata": {},
   "outputs": [
    {
     "name": "stdout",
     "output_type": "stream",
     "text": [
      "Addition: [[-1.22783615  0.08511043 -0.35393545 -2.77478007]\n",
      " [-2.04309581  1.41239579  1.34166828 -0.57215104]\n",
      " [ 0.62187508  2.50973126  1.10628051 -1.73975426]]\n"
     ]
    }
   ],
   "source": [
    "w = np.random.randn(3, 4)\n",
    "v = np.random.randn(3, 4)\n",
    "print(f'Addition: {w + v}')"
   ]
  },
  {
   "cell_type": "markdown",
   "metadata": {},
   "source": [
    "- Shifting a matrix là cách dùng để cộng một đại lượng vô hướng vào một matrix vuông thông qua việc cộng với một giá trị cố định của ma trận đường chéo $$ A + \\lambda I $$\n",
    "- Nó được dùng để tìm giá trị riêng, khớp ma trận với mô hình dữ liệu"
   ]
  },
  {
   "cell_type": "code",
   "execution_count": 13,
   "metadata": {},
   "outputs": [
    {
     "name": "stdout",
     "output_type": "stream",
     "text": [
      "Shifting [[ 0.12983401 -1.51315047  0.54482715 -2.16821804]\n",
      " [ 0.2051877   0.92405244  0.3770304  -0.23935371]\n",
      " [-0.92512947  0.2171126   0.26084071 -0.86804472]] by adding 6 is :[[ 6.96260693e+00 -1.01053272e-01  2.44128362e-01  1.51813317e+00]\n",
      " [-1.29457249e+00  5.59695255e+00 -3.29781924e-01  6.17658787e-03]\n",
      " [-8.29253648e-01  5.17091144e-01  5.13591615e+00  1.49136744e+00]\n",
      " [ 4.74223954e-01 -4.93192078e-01 -1.93414334e+00  6.90872141e+00]]\n"
     ]
    }
   ],
   "source": [
    "s = 6 \n",
    "shifting = sq + s * np.eye(len(sq))\n",
    "print(f'Shifting {w} by adding {s} is :{shifting}')"
   ]
  },
  {
   "cell_type": "markdown",
   "metadata": {},
   "source": [
    "### Scalar and Hadamard Multiplication \n",
    "- Nhân vô hướng là nhân mỗi phân tử với một đại lượng vô hướng"
   ]
  },
  {
   "cell_type": "code",
   "execution_count": 14,
   "metadata": {},
   "outputs": [
    {
     "name": "stdout",
     "output_type": "stream",
     "text": [
      "Scalar multiplications: [[  0.77900409  -9.0789028    3.26896291 -13.00930823]\n",
      " [  1.23112618   5.54431464   2.26218241  -1.43612227]\n",
      " [ -5.5507768    1.3026756    1.56504426  -5.20826834]]\n"
     ]
    }
   ],
   "source": [
    "print(f'Scalar multiplications: {6 * w}')"
   ]
  },
  {
   "cell_type": "markdown",
   "metadata": {},
   "source": [
    "- Hadamard multiplication : là phép nhân lần lượt các phần tử trong ma trận lại với nhau"
   ]
  },
  {
   "cell_type": "code",
   "execution_count": 15,
   "metadata": {},
   "outputs": [
    {
     "name": "stdout",
     "output_type": "stream",
     "text": [
      "Hadamard Multiplication: [[-0.17627177 -2.41840923 -0.48967027  1.31515874]\n",
      " [-0.46132011  0.45125487  0.36369781  0.07965628]\n",
      " [-1.43117949  0.4977564   0.22052512  0.75668287]]\n"
     ]
    }
   ],
   "source": [
    "print(f'Hadamard Multiplication: {w * v}')"
   ]
  },
  {
   "cell_type": "markdown",
   "metadata": {},
   "source": [
    "## 3. Standard Matrix Multiplication\n",
    "- Phép nhân ma trận là phép toán nhân lần lượt giá trị hàng của ma trận này với giá trị cột của ma trận kia. \n"
   ]
  },
  {
   "cell_type": "markdown",
   "metadata": {},
   "source": [
    "### Rules for Matrix Multiplication validity\n",
    "- Ma trận có thể nhân với nhau khi số cột của ma trận thứ nhất bằng với số hàng của ma trận thứ 2.\n",
    "- Nhân 2 ma trận không tuân theo tính giao hoán (commutative law) kể cả khi chúng đều là ma trận vuông thì tích giữa chúng cũng khác nhau\n"
   ]
  },
  {
   "cell_type": "markdown",
   "metadata": {},
   "source": [
    "![Local Image](Img/Figure5_3.png) "
   ]
  },
  {
   "cell_type": "markdown",
   "metadata": {},
   "source": [
    "### Matrix Multiplication \n",
    "- Nhân hai ma trận là tính toán dot product giữa vector hàng của ma trận thứ nhất và vector cột của ma trận thứ 2, trả về một ma trận các dot product\n",
    "- Nhân 2 ma trận lưu trữ tất cả cặp quan hệ tuyến tính giữa hàng của ma trận trái và cột của ma trận phải"
   ]
  },
  {
   "cell_type": "markdown",
   "metadata": {},
   "source": [
    "![Local Image](Img/Figure5_4.png)"
   ]
  },
  {
   "cell_type": "markdown",
   "metadata": {},
   "source": [
    "- Một số tính chất cơ bản : \n",
    "    1. Ma trận có thể được ở bên phải của một tích với vector cột, và có thể ở bên trái của một tích với vector hàng. Điều ngược lại không xảy ra $$ Av \\ \\& \\ v^T A \\Rightarrow \\ valid $$\n",
    "    2. Kết quả của nhân ma trận với vector luôn là một vector, hướng của vector phụ thuộc vào hướng của vector bị nhân : vector nhân là vector cột thì kết quả cũng là một vector cột và ngược lại "
   ]
  },
  {
   "cell_type": "markdown",
   "metadata": {},
   "source": [
    "- Ứng dụng của tích hai ma trận có thể được dùng để tối ưu hóa việc kết hợp linear weighted combinations. Đặt các vector vào trong một matrix và đặt trọng số vào trong một vector, sử dụng phép nhân để tối ưu chúng. "
   ]
  },
  {
   "cell_type": "code",
   "execution_count": 16,
   "metadata": {},
   "outputs": [
    {
     "name": "stdout",
     "output_type": "stream",
     "text": [
      "Individual combination: [1.32113415 8.24163865 1.24368002 6.36595685]\n"
     ]
    }
   ],
   "source": [
    "v = np.random.randn(4)\n",
    "w = np.random.randn(4)\n",
    "\n",
    "print(f'Individual combination: {4 * v + 3 * w}')"
   ]
  },
  {
   "cell_type": "code",
   "execution_count": 17,
   "metadata": {},
   "outputs": [
    {
     "name": "stdout",
     "output_type": "stream",
     "text": [
      "Using matrix multiplication: [1.32113415 8.24163865 1.24368002 6.36595685]\n"
     ]
    }
   ],
   "source": [
    "comb = np.transpose(np.array([v, w]))\n",
    "print(f'Using matrix multiplication: {comb @ np.transpose(np.array([4, 3]))}')\n"
   ]
  },
  {
   "cell_type": "markdown",
   "metadata": {},
   "source": [
    "- Khi suy nghĩ về vector như là một đường thẳng, khi đó matrix nhân với vector có thể trở thành một cách để xoay và scale vector đó. "
   ]
  },
  {
   "cell_type": "code",
   "execution_count": 18,
   "metadata": {},
   "outputs": [
    {
     "data": {
      "image/png": "[encoded data removed]",
      "text/plain": [
       "<Figure size 1400x700 with 2 Axes>"
      ]
     },
     "metadata": {},
     "output_type": "display_data"
    }
   ],
   "source": [
    "M = np.array([[2, 3], [2, 1]])\n",
    "x = np.array([1, 1.5]).T \n",
    "v = np.array([1.5, 1])\n",
    "\n",
    "Mx = M@x\n",
    "Mv = M@v \n",
    "\n",
    "fig, ax = plt.subplots(ncols = 2, figsize = (14, 7))\n",
    "\n",
    "ax[0].plot([0, x[0]], [0, x[1]], color = 'green', label = 'x')\n",
    "ax[0].plot([0, Mx[0]], [0, Mx[1]], color = 'grey', linestyle = '--', label  = 'Mx')\n",
    "\n",
    "ax[0].set_xlim([-6, 6])\n",
    "ax[0].set_ylim([-6, 6])\n",
    "ax[0].grid(True)\n",
    "ax[0].set_title(\"A)\")\n",
    "\n",
    "ax[1].plot([0, v[0]], [0, v[1]], color = 'green', label = 'v')\n",
    "ax[1].plot([0, Mv[0]], [0, Mv[1]], color = 'grey', linestyle = '--', label = 'Mv')\n",
    "ax[1].set_xlim([-6, 6])\n",
    "ax[1].set_ylim([-6, 6])\n",
    "ax[1].grid(True)\n",
    "ax[1].set_title(\"B)\")\n",
    "\n",
    "plt.legend()\n",
    "plt.show()\n"
   ]
  },
  {
   "cell_type": "markdown",
   "metadata": {},
   "source": [
    "- Với hình A, đường Mx là vector được vẽ qua phép nhân, nó được xoay và kéo dài so với x ban đầu \n",
    "- Với hình B, đường Mv là vector được vẽ qua phép nhân, nó chỉ được kéo dài do v được gọi là giá trị riêng (eigenvector) của ma trận M "
   ]
  },
  {
   "cell_type": "markdown",
   "metadata": {},
   "source": [
    "## 4. Matrix Operations: Transpose\n",
    "- Tương tự như với vector, chuyển vị là một phép toán thay đổi hàng và cột của ma trận cho nhau"
   ]
  },
  {
   "cell_type": "code",
   "execution_count": 19,
   "metadata": {},
   "outputs": [
    {
     "name": "stdout",
     "output_type": "stream",
     "text": [
      "Transpose matrix of [[-0.0305381  -1.10697331 -0.29393841 -1.83204189 -1.64001103]\n",
      " [ 0.72347651  0.41241652  0.21261047 -0.41759075 -0.18407558]] is [[-0.0305381   0.72347651]\n",
      " [-1.10697331  0.41241652]\n",
      " [-0.29393841  0.21261047]\n",
      " [-1.83204189 -0.41759075]\n",
      " [-1.64001103 -0.18407558]]\n"
     ]
    }
   ],
   "source": [
    "A = np.random.randn(2, 5)\n",
    "print(f'Transpose matrix of {A} is {A.T}')"
   ]
  },
  {
   "cell_type": "markdown",
   "metadata": {},
   "source": [
    "- Giải thích tại sao dot product lại là $a^Tb$ đơn giản vì nếu a là vector có dạng M x 1 thì chuyển vị của nó có dạng 1 x M phù hợp với M x 1 của b => tạo thành 1 x 1 "
   ]
  },
  {
   "cell_type": "markdown",
   "metadata": {},
   "source": [
    "## 5. Matrix Operations: Order of Operations \n",
    "- Thứ tự của phép chuyển vị kết hợp với phép nhân ma trận được xác định bởi công thức : $$ (LIVE)^T = E^T V^T I^T L^T $$"
   ]
  },
  {
   "cell_type": "code",
   "execution_count": 20,
   "metadata": {},
   "outputs": [
    {
     "name": "stdout",
     "output_type": "stream",
     "text": [
      "Left :[[ 1.52484796  4.21211767 -5.63135842]\n",
      " [ 0.85478312 -0.92976515  2.90410777]\n",
      " [-0.3078683   1.32507572  0.65864114]\n",
      " [-5.0040742  -0.22443138 -4.94680453]\n",
      " [-1.30810136  3.40171867  1.01089589]\n",
      " [-3.02374165  3.48275409 -7.48213211]]\n",
      "Right :[[ 1.52484796  4.21211767 -5.63135842]\n",
      " [ 0.85478312 -0.92976515  2.90410777]\n",
      " [-0.3078683   1.32507572  0.65864114]\n",
      " [-5.0040742  -0.22443138 -4.94680453]\n",
      " [-1.30810136  3.40171867  1.01089589]\n",
      " [-3.02374165  3.48275409 -7.48213211]]\n"
     ]
    }
   ],
   "source": [
    "a = np.random.randn(3, 4)\n",
    "b = np.random.randn(4,5)\n",
    "c = np.random.randn(5, 6)\n",
    "\n",
    "print(f'Left :{(a@b@c).T}')\n",
    "print(f'Right :{c.T@b.T@a.T}')"
   ]
  },
  {
   "cell_type": "markdown",
   "metadata": {},
   "source": [
    "## 6. Symmetric Matrices \n",
    "- Ma trận đối xứng là ma trận vuông mà giá trị hàng, cột tương ứng bằng nhau. Khi đổi vị trí hàng và cột cho nhau, giá trị của nó không thay đổi. $A = A^T$\n",
    "- Để tạo ra ma trận đối xứng, chỉ cần lấy phép nhân ma trận bất kì với nghịch đảo của nó $ AA^T$\n",
    "- Chứng minh : \n",
    "    - Ma trận $A A^T$ là một ma trận vuông vì nếu A là M x N thì $A^T$ là N x M nên tích là M x M \n",
    "    - Chuyển vị của $A A^T$ bằng chính nó : xét đẳng thức : $ (A^TA)^T = A^T A^{TT} = A^T A $ "
   ]
  },
  {
   "cell_type": "code",
   "execution_count": 21,
   "metadata": {},
   "outputs": [
    {
     "name": "stdout",
     "output_type": "stream",
     "text": [
      "Symmetric Matrices :[[ 2.7719828  -0.82051038  1.17841468]\n",
      " [-0.82051038  2.74577478  0.86492047]\n",
      " [ 1.17841468  0.86492047  1.28766639]]\n"
     ]
    }
   ],
   "source": [
    "a = np.random.randn(3, 4)\n",
    "\n",
    "print(f'Symmetric Matrices :{a @ a.T}')"
   ]
  },
  {
   "cell_type": "markdown",
   "metadata": {},
   "source": [
    "# Advance Concept "
   ]
  },
  {
   "cell_type": "markdown",
   "metadata": {},
   "source": [
    "## 1. Matrix norms \n",
    "- Cũng giống như vector, cũng có khái niệm matrix norm. \n",
    "- Nó được chia thành 2 loại chính : \n",
    "    1. Element-wise được tính toán dựa trên phần tử độc lập của ma trận, dùng để phản ánh độ lớn của phần tử trong ma trận \n",
    "    2. Induced norms : ước lượng transformation scale là bao nhiêu để mã hóa một vector\n",
    "- Euclidean norm còn được gọi là Frobenius norm được tính theo công thức euclidean : $$ \\| A\\| _{F} = \\sqrt {\\sum_{i = 1}^M \\sum_{i = 1}^N a^2_{i,j}} $$\n",
    "- Công thức trên được gọi là l2 norm với tham số p = 2. Công thức tổng quát : $$ \\| A\\|_p = (\\sum_{i = 1}^M \\sum_{i = 1}^N a^2_{i,j}) ^{\\frac 1 p} $$\n",
    "- Ứng dụng của norm : \n",
    "    1. Regularization : cải thiện mô hình, tăng khả năng với dữ liệu mới. Thực hiện bằng cách thêm matrix norm như một hàm  cost function cho thuật toán giảm thiểu (minimization algorithm), tránh tham số mô hình quá lớn\n",
    "    2. Tính khoảng cách của matrix : thông qua thay thế $ C = A - B $ vào công thức"
   ]
  },
  {
   "cell_type": "code",
   "execution_count": 22,
   "metadata": {},
   "outputs": [
    {
     "name": "stdout",
     "output_type": "stream",
     "text": [
      "Matrix norm  of [[2 2]\n",
      " [2 2]] is 4.0\n"
     ]
    }
   ],
   "source": [
    "h = np.array([[2, 2], [2,2]])\n",
    "print(f'Matrix norm  of {h} is {np.linalg.norm(h)}')"
   ]
  },
  {
   "cell_type": "markdown",
   "metadata": {},
   "source": [
    "###  Matrix trace and Frobenius norm \n",
    "- Trace của một matrix là tổng các phần tử chéo kí hiệu là $ tr(A) $  chỉ tồn tại trong ma trận vuông"
   ]
  },
  {
   "cell_type": "code",
   "execution_count": 23,
   "metadata": {},
   "outputs": [
    {
     "name": "stdout",
     "output_type": "stream",
     "text": [
      "Trace of matrix [[1. 0. 0.]\n",
      " [0. 1. 0.]\n",
      " [0. 0. 1.]] is 3.0\n"
     ]
    }
   ],
   "source": [
    "print(f'Trace of matrix {np.eye(3)} is {np.trace(np.eye(3))}')"
   ]
  },
  {
   "cell_type": "markdown",
   "metadata": {},
   "source": [
    "-  Frobenius norm có thể được tính nhưu một bình phương của tích ma trận A và chuyển vị của nó. $$ \\| A\\| _{F} = \\sqrt {\\sum_{i = 1}^M \\sum_{i = 1}^N a^2_{i,j}} = \\sqrt{tr(A^TA)} $$"
   ]
  },
  {
   "cell_type": "code",
   "execution_count": 24,
   "metadata": {},
   "outputs": [
    {
     "name": "stdout",
     "output_type": "stream",
     "text": [
      "Trace of the matrix  a times its transpose : 4.006027390555697\n",
      "Frobenius norm of matrix a is 4.006027390555697\n"
     ]
    }
   ],
   "source": [
    "a = np.random.randn(3, 5)\n",
    "sq = a.T @ a \n",
    "print(f'Trace of the matrix  a times its transpose : {np.trace(sq) ** 0.5 }')\n",
    "print(f'Frobenius norm of matrix a is {np.linalg.norm(a)}')"
   ]
  },
  {
   "cell_type": "markdown",
   "metadata": {},
   "source": [
    "## 2. Matrix Spaces "
   ]
  },
  {
   "cell_type": "markdown",
   "metadata": {},
   "source": [
    "### Column Space \n",
    "- Định nghĩa ma trận như là một tập các vector cột, có vô số cách để kết hợp tập vector lại với nhau, kết quả của tập vô hạn đó là không gian vector cột của một ma trận\n",
    "- Kết hợp dựa trên phép linear combination $$ C(\\begin{vmatrix} a \\\\ b \\end{vmatrix}) = \\lambda_1 {\\begin{vmatrix} c \\\\ d \\end{vmatrix}} + \\lambda_2 {\\begin{vmatrix} e \\\\ f \\end{vmatrix}} + ... $$"
   ]
  },
  {
   "cell_type": "markdown",
   "metadata": {},
   "source": [
    "![Local Image](Img/Figure6_3.png)"
   ]
  },
  {
   "cell_type": "markdown",
   "metadata": {},
   "source": [
    "- Bài toán xác định các điểm có nằm trên subspace hay không được giải thích sau \n",
    "- Tương tự ta cũng có không gian ma trận hàng "
   ]
  },
  {
   "cell_type": "markdown",
   "metadata": {},
   "source": [
    "### Null spaces\n",
    "- Columns space có thể được tóm tắt thông qua phép toán : $ Ax = b$ tìm các hệ số x sao cho tập vector cột của ma trận A tạo ra vector b\n",
    "- Tương tự với phép thu gọn đó, null space có thể được tạo ra thông qua việc cho vector b là một vector 0 -> không gian mới là một không gian null \n",
    "- Với cách định nghĩa trên, sẽ luôn có nghiệm y = 0 thỏa mãn => y = 0 là một nghiệm tầm thường\n",
    "- Một ma trận có thể có hoặc không có null space. Null space là rỗng khi cột của matrix độc lập tuyến tính với nhau (không có cặp giá trị nào để linear combination là 0)"
   ]
  },
  {
   "cell_type": "code",
   "execution_count": 25,
   "metadata": {},
   "outputs": [
    {
     "name": "stdout",
     "output_type": "stream",
     "text": [
      "Null Space of A is [[0.70710678]\n",
      " [0.70710678]]\n",
      "Null Space of B is []\n"
     ]
    }
   ],
   "source": [
    "A = np.array([[1, -1], \n",
    "              [-2, 2]])\n",
    "B = np.array([[1, -1], \n",
    "              [-2, 3]])\n",
    "# python return a unit vector\n",
    "print(f'Null Space of A is {scipy.linalg.null_space(A)}')\n",
    "print(f'Null Space of B is {scipy.linalg.null_space(B)}')"
   ]
  },
  {
   "cell_type": "code",
   "execution_count": 26,
   "metadata": {},
   "outputs": [
    {
     "data": {
      "image/png": "[encoded data removed]",
      "text/plain": [
       "<Figure size 500x500 with 1 Axes>"
      ]
     },
     "metadata": {},
     "output_type": "display_data"
    }
   ],
   "source": [
    "tmp = scipy.linalg.null_space(A)\n",
    "\n",
    "fig, ax = plt.subplots(figsize = (5, 5))\n",
    "\n",
    "ax.plot([0,  1], [0, -1], color = 'green', label = 'A[0, :]')\n",
    "ax.plot([0, -2], [0, 2], color = 'blue', label = 'A[1, :]')\n",
    "ax.plot([0, tmp[0,0]], [0, tmp[1,0]], linestyle = '--',  color = 'red', label = 'y')\n",
    "\n",
    "ax.set_xlim([-3, 3])\n",
    "ax.set_ylim([-3, 3])\n",
    "plt.grid(True)\n",
    "\n",
    "plt.legend()\n",
    "plt.show()"
   ]
  },
  {
   "cell_type": "markdown",
   "metadata": {},
   "source": [
    "=> Dễ thấy phương của A vuông góc với phương của y do tích của chúng bằng 0 nên chúng là vuông góc với nhau"
   ]
  },
  {
   "cell_type": "markdown",
   "metadata": {},
   "source": [
    "## 3. Rank\n",
    "- Rank là một số liên hệ tới matrix, nó liên quan tới chiều của matrix subspaces, có ý nghĩa quan trọng cho phép toán matrix\n",
    "- Một số tính chất của rank : \n",
    "    - Là một số nguyên không âm \n",
    "    - Mỗi ma trận đều có 1 rank duy nhất \n",
    "    - Giá trị rank lớn nhất có thể có là giá trị nhỏ nhất của số hàng và cột của ma trận $  r \\leq min (M, N) $  \n",
    "    - Phép nhân vô hướng không ảnh hưởng tới rank\n",
    "- Rank được định nghĩa là số cột (hàng) lớn nhất thỏa mãn độc lập tuyến tính\n",
    "- Có rất nhiều cách để tính rank của một ma trận : Tính chất số cột lớn nhất thỏa mãn độc lập tuyến tính \n"
   ]
  },
  {
   "cell_type": "code",
   "execution_count": 27,
   "metadata": {},
   "outputs": [
    {
     "name": "stdout",
     "output_type": "stream",
     "text": [
      "Rank of matrix A is 1\n"
     ]
    }
   ],
   "source": [
    "print(f'Rank of matrix A is {np.linalg.matrix_rank(A)}')"
   ]
  },
  {
   "cell_type": "markdown",
   "metadata": {},
   "source": [
    "### Ranks of special matrices \n"
   ]
  },
  {
   "cell_type": "code",
   "execution_count": 28,
   "metadata": {},
   "outputs": [
    {
     "name": "stdout",
     "output_type": "stream",
     "text": [
      "Rank of vector is 1\n",
      "Rank of Zeros matrix : 0\n",
      "Rank of Identity matrices: 5\n",
      "Rank of Diagonal matrices : 1\n",
      "Rank of Triangular matrices : 4\n",
      "Rank of random matrices is 4\n"
     ]
    }
   ],
   "source": [
    "tmp = np.random.randn(4, 5)\n",
    "\n",
    "print(f'Rank of vector is {np.linalg.matrix_rank(np.array([2, 3, 9]))}')\n",
    "print(f'Rank of Zeros matrix : {np.linalg.matrix_rank(np.zeros((3,3)))}')\n",
    "print(f'Rank of Identity matrices: {np.linalg.matrix_rank(np.eye(5))}')\n",
    "\n",
    "# rank of this matrix equals the number of nonzero diagonal element\n",
    "print(f'Rank of Diagonal matrices : {np.linalg.matrix_rank(np.diag(tmp))}')\n",
    "print(f'Rank of Triangular matrices : {np.linalg.matrix_rank(np.triu(tmp))}')\n",
    "print(f'Rank of random matrices is {np.linalg.matrix_rank(tmp)}')"
   ]
  },
  {
   "cell_type": "markdown",
   "metadata": {},
   "source": [
    "### Rank of added and multiplied matrices \n",
    "- Nếu biết rank(A) và rank(B) ta chỉ có thể giới hạn trên đên rank(A + B) và rank(AB) : $$ rank(A + B ) \\leq rank(A) + rank(B) \\\\ rank (AB) \\leq min (rank (A), rank(B)) $$ \n",
    "- Rank của một tổng có thể lớn hơn rank của ma trận riêng lẻ \n",
    "- Rank của một tích không thể lớn hơn rank của ma trận riêng lẻ\n",
    "- Shifted matrices giúp ma trận có full rank, mục tiêu của shifting một matrix vuông là tăng rank từ r < M đến r = M "
   ]
  },
  {
   "cell_type": "code",
   "execution_count": 30,
   "metadata": {},
   "outputs": [
    {
     "name": "stdout",
     "output_type": "stream",
     "text": [
      "Rank of M is 4\n",
      "Rank of Shifted M is 4\n"
     ]
    }
   ],
   "source": [
    "M = np.random.randn(4, 4)\n",
    "print(f'Rank of M is {np.linalg.matrix_rank(M)}')\n",
    "\n",
    "print(f'Rank of Shifted M is {np.linalg.matrix_rank(M + 6 * np.eye(4))}')"
   ]
  },
  {
   "cell_type": "markdown",
   "metadata": {},
   "source": [
    "### Rank application \n",
    "1. Một vector khi nào nằm trong không gian cột của ma trận : \n",
    "- Augment một matrix là thêm một hoặc nhiều cột vào bên phải của matrix đó, khi cột thêm vào phải có cùng hàng so với cột ban đầu\n",
    "- Để xác định, ta augment matrix với vector được ma trận $ \\tilde{A} $. Kiểm tra nếu $ rank(A) = rank(\\tilde{A}) $ thì vector nằm trong ma trận và ngược lại khi $ rank(A) < rank(\\tilde{A}) $  thì không thỏa mãn\n",
    "- Giải thích : khi $ rank(A) = rank(\\tilde{A}) $, việc thêm giá trị vector vào là dư thừa do đó, vector thuộc không gian, điều ngược lại khi  $ rank(A) < rank(\\tilde{A}) $ thì khi đó vector thêm vào có ý nghĩa hay chúng độc lập tuyến tính do đó không thỏa mãn\n"
   ]
  },
  {
   "cell_type": "code",
   "execution_count": 43,
   "metadata": {},
   "outputs": [
    {
     "name": "stdout",
     "output_type": "stream",
     "text": [
      "Rank  C : 4\n",
      "Rank m : 3\n"
     ]
    }
   ],
   "source": [
    "A = np.random.randn(3, 4)\n",
    "m = np.random.randn(1,4)\n",
    "\n",
    "C = np.concatenate((A, m))\n",
    "print(f'Rank  C : {np.linalg.matrix_rank(C)}')\n",
    "print(f'Rank m : {np.linalg.matrix_rank(A)}')\n"
   ]
  },
  {
   "cell_type": "markdown",
   "metadata": {},
   "source": [
    "2. Xác định độc lập tuyến tính của vector set \n",
    "- Đưa vector vào matrix, tính rank của matrix đó, so sánh với giá trị rank lớn nhất của matrix "
   ]
  },
  {
   "cell_type": "markdown",
   "metadata": {},
   "source": [
    "## Determinant\n",
    "- Định thức là một số liên quan tới ma trận vuông, là nền  tảng cho nhiều phép toán bao gồm : ma trận nghịch đảo, ... \n",
    "- 2 tính chất của định thức : \n",
    "    - Xác định cho ma trận vuông \n",
    "    - Bằng 0 cho ma trận đơn (ma trận giảm rank)"
   ]
  },
  {
   "cell_type": "code",
   "execution_count": 44,
   "metadata": {},
   "outputs": [
    {
     "name": "stdout",
     "output_type": "stream",
     "text": [
      "Determinant of M is  1.763842914030159\n"
     ]
    }
   ],
   "source": [
    "M = np.random.randn(4, 4)\n",
    "\n",
    "print(f'Determinant of M is  {np.linalg.det(M)}')"
   ]
  },
  {
   "cell_type": "markdown",
   "metadata": {},
   "source": [
    "- Định thức có thể được dùng để xem xét độc lập tuyến tính vì nếu một ma trận chứ vector cột ko độc lập tuyến tính, định thức của nó là 0"
   ]
  },
  {
   "cell_type": "markdown",
   "metadata": {},
   "source": [
    "### The characteristic Polynomial \n",
    "- Tính giá trị $ det(A - \\lambda I) = \\delta $ khi đó thấy giá trị $\\lambda$ có giá trị mũ tương đương với số hàng (cột) của A"
   ]
  }
 ],
 "metadata": {
  "kernelspec": {
   "display_name": "cs197",
   "language": "python",
   "name": "python3"
  },
  "language_info": {
   "codemirror_mode": {
    "name": "ipython",
    "version": 3
   },
   "file_extension": ".py",
   "mimetype": "text/x-python",
   "name": "python",
   "nbconvert_exporter": "python",
   "pygments_lexer": "ipython3",
   "version": "3.9.0"
  }
 },
 "nbformat": 4,
 "nbformat_minor": 2
}
