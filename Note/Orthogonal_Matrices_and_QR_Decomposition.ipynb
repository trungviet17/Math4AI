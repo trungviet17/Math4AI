{
 "cells": [
  {
   "cell_type": "markdown",
   "metadata": {},
   "source": [
    "# Introduction\n",
    "- Trong phần này, ta sẽ học về QR decomposition và một loại ma trận mới (orthogonal matrix). "
   ]
  },
  {
   "cell_type": "code",
   "execution_count": 1,
   "metadata": {},
   "outputs": [],
   "source": [
    "import numpy as np\n",
    "import matplotlib.pyplot as plt"
   ]
  },
  {
   "cell_type": "markdown",
   "metadata": {},
   "source": [
    "# Orthogonal Matrices "
   ]
  },
  {
   "cell_type": "markdown",
   "metadata": {},
   "source": [
    "- Orthogonal matrix (ma trận trực giao) là ma trận thỏa mãn tính chất sau : \n",
    "    1. Mỗi cột khác nhau đều trực giao (dot product = 0)\n",
    "    2. Mỗi cột có norm chính xác bằng 1 \n",
    "- Miêu tả biểu thức : $$ <q_i, q_j>= \\begin{cases} 0 &\\text{if i != j } \\\\ 1 &\\text{if i = j} \\end{cases}  $$\n",
    "- Dựa vào đây ta có thể suy ra tính chất của ma trận trực giao đó là tích giữa ma trận đó và chuyển vị của nó là I. ($ Q^TQ = I = QQ^T$)"
   ]
  },
  {
   "cell_type": "code",
   "execution_count": 3,
   "metadata": {},
   "outputs": [
    {
     "name": "stdout",
     "output_type": "stream",
     "text": [
      "[[2 0]\n",
      " [0 2]]\n",
      "[[9 0 0]\n",
      " [0 9 0]\n",
      " [0 0 9]]\n"
     ]
    }
   ],
   "source": [
    "Q1 = np.array([\n",
    "    [1, -1], [1, 1]\n",
    "])\n",
    "\n",
    "Q2 = np.array([\n",
    "    [1, 2, 2], [2, 1, -2], [-2, 2, -1]\n",
    "])\n",
    "print(Q1.T @ Q1)\n",
    "print(Q2 @ Q2.T)"
   ]
  },
  {
   "cell_type": "markdown",
   "metadata": {},
   "source": [
    "- Một số tính chất của ma trận trực giao : \n",
    "    1. Ma trận hoán vị (Permutation matrices) là một ma trận trực giao \n",
    "    2. Pure rotation (xoay không làm thay đổi chiều dài của vector) là phép nhân với ma trận trực giao \n",
    "- Ma trận trực giao có thể được tính từ một ma trận không trực giao từ QR decomposition, cái mà đơn gian là một phiên bản phức tạp hơn của Gram-Schmidt"
   ]
  },
  {
   "cell_type": "markdown",
   "metadata": {},
   "source": [
    "# Gram-Schmidt \n",
    "- "
   ]
  }
 ],
 "metadata": {
  "kernelspec": {
   "display_name": "cs197",
   "language": "python",
   "name": "python3"
  },
  "language_info": {
   "codemirror_mode": {
    "name": "ipython",
    "version": 3
   },
   "file_extension": ".py",
   "mimetype": "text/x-python",
   "name": "python",
   "nbconvert_exporter": "python",
   "pygments_lexer": "ipython3",
   "version": "3.9.0"
  }
 },
 "nbformat": 4,
 "nbformat_minor": 2
}
