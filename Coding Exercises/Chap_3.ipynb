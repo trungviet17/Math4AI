{
 "cells": [
  {
   "cell_type": "markdown",
   "metadata": {},
   "source": [
    "# Code exercises "
   ]
  },
  {
   "cell_type": "code",
   "execution_count": 1,
   "metadata": {},
   "outputs": [],
   "source": [
    "import numpy as np \n",
    "import matplotlib.pyplot as plt"
   ]
  },
  {
   "cell_type": "markdown",
   "metadata": {},
   "source": [
    "Exercise 3-1.\n",
    "Rewrite the code for linear weighted combination, but put the scalars in a list and the\n",
    "vectors as elements in a list (thus, you will have two lists, one of scalars and one of\n",
    "NumPy arrays). Then use a for loop to implement the linear weighted combination\n",
    "operation. Initialize the output vector using np.zeros(). Confirm that you get the\n",
    "same result as in the previous code\n"
   ]
  },
  {
   "cell_type": "code",
   "execution_count": 2,
   "metadata": {},
   "outputs": [],
   "source": [
    "from typing import List\n",
    "\n",
    "def linear_weighted_combination(scalar :List[int], v_set :List[np.array]) :\n",
    "    if len(scalar) == 0 : return None \n",
    "\n",
    "    res = np.zeros(v_set[0].shape, dtype = 'int' )\n",
    "\n",
    "    for s,v in zip(scalar, v_set) : \n",
    "        res += s * v\n",
    "\n",
    "    return res"
   ]
  },
  {
   "cell_type": "code",
   "execution_count": 3,
   "metadata": {},
   "outputs": [
    {
     "data": {
      "text/plain": [
       "array([29, 12])"
      ]
     },
     "execution_count": 3,
     "metadata": {},
     "output_type": "execute_result"
    }
   ],
   "source": [
    "v_set = [np.array([1, 3]), np.array([9, 2])]\n",
    "linear_weighted_combination([2, 3], v_set=v_set)"
   ]
  },
  {
   "cell_type": "markdown",
   "metadata": {},
   "source": [
    "Exercise 3-2.\n",
    "Although the method of looping through lists in the previous exercise is not as\n",
    "efficient as matrix-vector multiplication, it is more scalable than without a for loop.\n",
    "You can explore this by adding additional scalars and vectors as elements in the lists.\n",
    "What happens if the new added vector is in ℝ\n",
    "4\n",
    " instead of ℝ\n",
    "3\n",
    "? And what happens if\n",
    "you have more scalars than vectors"
   ]
  },
  {
   "cell_type": "code",
   "execution_count": 4,
   "metadata": {},
   "outputs": [
    {
     "data": {
      "text/plain": [
       "array([29, 12])"
      ]
     },
     "execution_count": 4,
     "metadata": {},
     "output_type": "execute_result"
    }
   ],
   "source": [
    "# implement using zip\n",
    "linear_weighted_combination([2, 3, 7, 30], v_set=v_set)"
   ]
  },
  {
   "cell_type": "markdown",
   "metadata": {},
   "source": [
    "Exercise 3-3.\n",
    "In this exercise, you will draw random points in subspaces. This will help reinforce\n",
    "the idea that subspaces comprise any linear weighted combination of the spanning\n",
    "vectors. Define a vector set containing one vector [1, 3]. Then create 100 numbers\n",
    "drawn randomly from a uniform distribution between −4 and +4. Those are your\n",
    "random scalars. Multiply the random scalars by the basis vector to create 100 random\n",
    "points in the subspace. Plot those points."
   ]
  },
  {
   "cell_type": "code",
   "execution_count": 5,
   "metadata": {},
   "outputs": [
    {
     "name": "stderr",
     "output_type": "stream",
     "text": [
      "C:\\Users\\Asus\\AppData\\Local\\Temp\\ipykernel_12676\\3885154228.py:13: UserWarning: color is redundantly defined by the 'color' keyword argument and the fmt string \"ko\" (-> color='k'). The keyword argument will take precedence.\n",
      "  plt.plot(p[0], p[1], 'ko', color = 'red')\n"
     ]
    },
    {
     "data": {
      "image/png": "[encoded data removed]",
      "text/plain": [
       "<Figure size 600x600 with 1 Axes>"
      ]
     },
     "metadata": {},
     "output_type": "display_data"
    }
   ],
   "source": [
    "v_basis = np.array([1, 3])\n",
    "\n",
    "xlim = [-4, 4]\n",
    "\n",
    "scale = np.random.uniform(low = xlim[0], high = xlim[1], size = 100)\n",
    "\n",
    "plt.figure(figsize= (6, 6))\n",
    "\n",
    "for i in scale : \n",
    "    \n",
    "    p = i * v_basis\n",
    "\n",
    "    plt.plot(p[0], p[1], 'ko', color = 'red')\n",
    "plt.xlim(xlim)\n",
    "plt.ylim(xlim)\n",
    "plt.grid(True)\n",
    "plt.title('100 random point in subspace')\n",
    "plt.show()"
   ]
  },
  {
   "cell_type": "code",
   "execution_count": 6,
   "metadata": {},
   "outputs": [
    {
     "data": {
      "application/vnd.plotly.v1+json": {
       "config": {
        "plotlyServerURL": "https://plot.ly"
       },
       "data": [
        {
         "mode": "markers",
         "type": "scatter3d",
         "x": [
          10.472753999779577,
          -0.5556742544217794,
          7.904569543004133,
          4.918069978664268,
          -10.648553386690054,
          9.175164296030776,
          -6.906302506689385,
          10.854870761294004,
          -3.581339508895457,
          11.924870318921151,
          -7.987675615776272,
          -3.5590851701940744,
          -5.156709073499665,
          5.395078889694496,
          7.14447521538403,
          0.024041054583564758,
          -10.321669259260853,
          -4.037396132715184,
          2.4294042877419377,
          0.8419760717940559,
          11.27215223335827,
          6.080787160665907,
          2.2833881385833914,
          -0.5950258286281453,
          -4.412013621980769,
          -10.766069000387635,
          -11.234212278435457,
          -3.1177411243004034,
          4.164545424768829,
          5.368427072207519,
          3.3803265941187393,
          8.75504369685803,
          -4.81501413019558,
          -4.218598680340067,
          -7.328919126172263,
          1.4638045798951298,
          11.561644449909878,
          1.3346664404223008,
          1.031190956014406,
          -7.213385697804799,
          -8.16270432338735,
          8.789891361158777,
          11.715072358823763,
          -9.462167732554846,
          -0.6342847623753167,
          3.2976998316178063,
          10.555486744409864,
          2.8392046746432396,
          -9.776247720799569,
          11.971325007224664,
          0.7690421129413174,
          -3.6369852896476056,
          4.955748851209732,
          -6.5248644776534865,
          -10.80878455816676,
          -7.399750005702183,
          1.6803993916921547,
          -11.091098092943056,
          -3.2524289379296727,
          -4.235737162303494,
          3.4634918800995775,
          -1.4695047631474711,
          1.8109857520725399,
          0.1775853501996476,
          1.0031395416013993,
          4.346556582224934,
          -0.40583144432867346,
          -2.050530759010937,
          7.651624804631308,
          8.098194223221208,
          5.996093856081022,
          9.457564004480453,
          -1.1839860939574907,
          -3.1812132489374205,
          -6.728194698044905,
          2.5333007905316682,
          -5.3101555384719195,
          -3.019879879537032,
          -1.2396192804524313,
          7.036705967465087,
          7.360690196504477,
          4.519723750711894,
          1.9373994743827767,
          -9.88038061752378,
          7.895928179042642,
          3.216554644210155,
          -10.824202847377345,
          4.785987191733958,
          3.253851572106756,
          -8.474646744093791,
          7.905981873893438,
          6.758064042308527,
          -8.67108267974604,
          2.2394044161681936,
          3.726931210871898,
          -4.288899703721478,
          0.6613434070775082,
          11.972377279452832,
          -3.645052708861182,
          4.48251233168433
         ],
         "y": [
          12.176378241618684,
          -1.6093665789812093,
          8.384654168470773,
          14.361639453141196,
          -10.55011306599754,
          17.010318345700785,
          -12.777933431240909,
          16.379035275852402,
          -5.13936813036308,
          22.29320604145274,
          -10.182453801213452,
          2.0589823373386382,
          -1.9386648057872211,
          10.099987901920509,
          16.82575909333653,
          5.754485689467154,
          -16.184591771100575,
          -12.384804244391939,
          10.580448610142248,
          -6.420756320735633,
          10.988283354922686,
          5.426929941559555,
          1.0838488526084147,
          -6.398947522194705,
          -6.296358979600811,
          -21.48568462309885,
          -12.867278499695846,
          -12.537998121087663,
          3.399425612972366,
          8.088055637951971,
          13.313533540614571,
          13.525346782375083,
          -10.401966933905811,
          -11.232434524849248,
          -15.681857278977425,
          -1.7656458523703007,
          26.0345716841431,
          -3.992463431586427,
          -0.35322739078950427,
          -19.669332815640047,
          -13.280976886728563,
          8.30727334905628,
          17.200822115434235,
          -12.488909958922997,
          -6.59586627136943,
          6.4350789680098375,
          23.53110092947947,
          -2.3638669608107836,
          -21.52299071943682,
          15.249000296522764,
          3.641056344110515,
          -2.886701005276664,
          15.610754699535839,
          -7.726503529051959,
          -15.314739453431324,
          -11.077298081916059,
          3.3982106710553746,
          -15.589353814045923,
          -12.695231691081048,
          -1.2422894077568518,
          -0.39976212222026763,
          3.701641628787735,
          2.9559223390072233,
          1.8803116178931258,
          3.8184201305916723,
          8.902759795835077,
          -1.467796504170951,
          0.30565410290323225,
          12.0360028591809,
          8.901311982758655,
          15.862049711388694,
          11.978366126202102,
          3.691181953892028,
          -7.673956773641955,
          -17.99907362822984,
          -1.5979787505786804,
          -13.449474578990465,
          -8.872881050807024,
          3.872998240184482,
          5.96956321033905,
          10.877617130452247,
          11.146375660889852,
          6.078523748724172,
          -21.317800053498235,
          18.00970714963711,
          10.391391301787873,
          -18.20924039398677,
          6.577680480567211,
          10.470919387565194,
          -9.233317148721799,
          11.436738803177617,
          12.838631122851767,
          -11.697629172013995,
          9.750928238311376,
          -0.5530086731089607,
          -2.878450541488945,
          -4.30540008209622,
          14.56696351851757,
          -12.100411274438226,
          8.52276012934751
         ],
         "z": [
          -1.7872937580874213,
          -0.8684675730855034,
          -2.154771888868071,
          7.804212814922171,
          3.6479581162558636,
          4.776765950993084,
          -3.5695300889883965,
          1.9058742607937287,
          -0.3642487851691367,
          6.393378949557877,
          0.46778035315491096,
          6.8044292309307375,
          4.936947292212332,
          2.9065493823278477,
          7.299792139491157,
          5.722430950022401,
          -2.4223660920861025,
          -7.001609400771693,
          7.341242893152999,
          -7.543391083127707,
          -4.041252956221672,
          -2.6807862726616554,
          -1.9606686655027739,
          -5.605579750690511,
          -0.4136741502931187,
          -7.130925955915337,
          2.1116712048847655,
          -8.381009955353791,
          -2.1533016200527397,
          0.9301528750086128,
          8.806431415122919,
          1.8519551865643766,
          -3.9819480936450375,
          -5.607636284395825,
          -5.909965110747741,
          -3.7173852922304738,
          10.619045750929928,
          -5.772018685482828,
          -1.7281486654753788,
          -10.05148521856698,
          -2.397371122212096,
          -3.412581799155425,
          1.5807256370025495,
          0.12731368448346192,
          -5.750153254869008,
          2.0381458591860957,
          9.457118603599653,
          -6.149473193668436,
          -8.487993758370726,
          -0.7127663797767854,
          2.6156668601887585,
          1.9626127142534768,
          9.00308956458953,
          0.9733157744860224,
          -0.9030267092089792,
          -1.210964740979815,
          1.1576781487991683,
          -0.8012230234551811,
          -8.358659773841485,
          4.40536014198114,
          -5.017751295686371,
          5.660981312984363,
          0.5412746695771702,
          1.6435311509602624,
          2.4809007417898066,
          3.107351019535165,
          -0.9266879117327198,
          3.039695114917815,
          1.833836453005822,
          -1.8962803148696228,
          7.867257903280664,
          -0.6317192131051703,
          5.269830079168682,
          -3.4323391083920614,
          -9.028147364169968,
          -4.975713137954238,
          -6.369267194361239,
          -4.846374544757647,
          5.52582394745439,
          -3.4127114129477327,
          1.063363535112945,
          5.120077326607325,
          3.4953244495471365,
          -8.143959230133195,
          7.481802910913585,
          6.102651776174333,
          -3.7769699308169766,
          0.1963642249219335,
          6.132450624756187,
          2.0662118434032557,
          0.895429637986366,
          3.8278790664403974,
          -0.13618559901927618,
          6.765055683420451,
          -5.522250287604825,
          2.840082396806359,
          -5.187191291532898,
          -1.396206187419538,
          -7.240340995956651,
          2.546077020435071
         ]
        }
       ],
       "layout": {
        "template": {
         "data": {
          "bar": [
           {
            "error_x": {
             "color": "#2a3f5f"
            },
            "error_y": {
             "color": "#2a3f5f"
            },
            "marker": {
             "line": {
              "color": "#E5ECF6",
              "width": 0.5
             },
             "pattern": {
              "fillmode": "overlay",
              "size": 10,
              "solidity": 0.2
             }
            },
            "type": "bar"
           }
          ],
          "barpolar": [
           {
            "marker": {
             "line": {
              "color": "#E5ECF6",
              "width": 0.5
             },
             "pattern": {
              "fillmode": "overlay",
              "size": 10,
              "solidity": 0.2
             }
            },
            "type": "barpolar"
           }
          ],
          "carpet": [
           {
            "aaxis": {
             "endlinecolor": "#2a3f5f",
             "gridcolor": "white",
             "linecolor": "white",
             "minorgridcolor": "white",
             "startlinecolor": "#2a3f5f"
            },
            "baxis": {
             "endlinecolor": "#2a3f5f",
             "gridcolor": "white",
             "linecolor": "white",
             "minorgridcolor": "white",
             "startlinecolor": "#2a3f5f"
            },
            "type": "carpet"
           }
          ],
          "choropleth": [
           {
            "colorbar": {
             "outlinewidth": 0,
             "ticks": ""
            },
            "type": "choropleth"
           }
          ],
          "contour": [
           {
            "colorbar": {
             "outlinewidth": 0,
             "ticks": ""
            },
            "colorscale": [
             [
              0,
              "#0d0887"
             ],
             [
              0.1111111111111111,
              "#46039f"
             ],
             [
              0.2222222222222222,
              "#7201a8"
             ],
             [
              0.3333333333333333,
              "#9c179e"
             ],
             [
              0.4444444444444444,
              "#bd3786"
             ],
             [
              0.5555555555555556,
              "#d8576b"
             ],
             [
              0.6666666666666666,
              "#ed7953"
             ],
             [
              0.7777777777777778,
              "#fb9f3a"
             ],
             [
              0.8888888888888888,
              "#fdca26"
             ],
             [
              1,
              "#f0f921"
             ]
            ],
            "type": "contour"
           }
          ],
          "contourcarpet": [
           {
            "colorbar": {
             "outlinewidth": 0,
             "ticks": ""
            },
            "type": "contourcarpet"
           }
          ],
          "heatmap": [
           {
            "colorbar": {
             "outlinewidth": 0,
             "ticks": ""
            },
            "colorscale": [
             [
              0,
              "#0d0887"
             ],
             [
              0.1111111111111111,
              "#46039f"
             ],
             [
              0.2222222222222222,
              "#7201a8"
             ],
             [
              0.3333333333333333,
              "#9c179e"
             ],
             [
              0.4444444444444444,
              "#bd3786"
             ],
             [
              0.5555555555555556,
              "#d8576b"
             ],
             [
              0.6666666666666666,
              "#ed7953"
             ],
             [
              0.7777777777777778,
              "#fb9f3a"
             ],
             [
              0.8888888888888888,
              "#fdca26"
             ],
             [
              1,
              "#f0f921"
             ]
            ],
            "type": "heatmap"
           }
          ],
          "heatmapgl": [
           {
            "colorbar": {
             "outlinewidth": 0,
             "ticks": ""
            },
            "colorscale": [
             [
              0,
              "#0d0887"
             ],
             [
              0.1111111111111111,
              "#46039f"
             ],
             [
              0.2222222222222222,
              "#7201a8"
             ],
             [
              0.3333333333333333,
              "#9c179e"
             ],
             [
              0.4444444444444444,
              "#bd3786"
             ],
             [
              0.5555555555555556,
              "#d8576b"
             ],
             [
              0.6666666666666666,
              "#ed7953"
             ],
             [
              0.7777777777777778,
              "#fb9f3a"
             ],
             [
              0.8888888888888888,
              "#fdca26"
             ],
             [
              1,
              "#f0f921"
             ]
            ],
            "type": "heatmapgl"
           }
          ],
          "histogram": [
           {
            "marker": {
             "pattern": {
              "fillmode": "overlay",
              "size": 10,
              "solidity": 0.2
             }
            },
            "type": "histogram"
           }
          ],
          "histogram2d": [
           {
            "colorbar": {
             "outlinewidth": 0,
             "ticks": ""
            },
            "colorscale": [
             [
              0,
              "#0d0887"
             ],
             [
              0.1111111111111111,
              "#46039f"
             ],
             [
              0.2222222222222222,
              "#7201a8"
             ],
             [
              0.3333333333333333,
              "#9c179e"
             ],
             [
              0.4444444444444444,
              "#bd3786"
             ],
             [
              0.5555555555555556,
              "#d8576b"
             ],
             [
              0.6666666666666666,
              "#ed7953"
             ],
             [
              0.7777777777777778,
              "#fb9f3a"
             ],
             [
              0.8888888888888888,
              "#fdca26"
             ],
             [
              1,
              "#f0f921"
             ]
            ],
            "type": "histogram2d"
           }
          ],
          "histogram2dcontour": [
           {
            "colorbar": {
             "outlinewidth": 0,
             "ticks": ""
            },
            "colorscale": [
             [
              0,
              "#0d0887"
             ],
             [
              0.1111111111111111,
              "#46039f"
             ],
             [
              0.2222222222222222,
              "#7201a8"
             ],
             [
              0.3333333333333333,
              "#9c179e"
             ],
             [
              0.4444444444444444,
              "#bd3786"
             ],
             [
              0.5555555555555556,
              "#d8576b"
             ],
             [
              0.6666666666666666,
              "#ed7953"
             ],
             [
              0.7777777777777778,
              "#fb9f3a"
             ],
             [
              0.8888888888888888,
              "#fdca26"
             ],
             [
              1,
              "#f0f921"
             ]
            ],
            "type": "histogram2dcontour"
           }
          ],
          "mesh3d": [
           {
            "colorbar": {
             "outlinewidth": 0,
             "ticks": ""
            },
            "type": "mesh3d"
           }
          ],
          "parcoords": [
           {
            "line": {
             "colorbar": {
              "outlinewidth": 0,
              "ticks": ""
             }
            },
            "type": "parcoords"
           }
          ],
          "pie": [
           {
            "automargin": true,
            "type": "pie"
           }
          ],
          "scatter": [
           {
            "fillpattern": {
             "fillmode": "overlay",
             "size": 10,
             "solidity": 0.2
            },
            "type": "scatter"
           }
          ],
          "scatter3d": [
           {
            "line": {
             "colorbar": {
              "outlinewidth": 0,
              "ticks": ""
             }
            },
            "marker": {
             "colorbar": {
              "outlinewidth": 0,
              "ticks": ""
             }
            },
            "type": "scatter3d"
           }
          ],
          "scattercarpet": [
           {
            "marker": {
             "colorbar": {
              "outlinewidth": 0,
              "ticks": ""
             }
            },
            "type": "scattercarpet"
           }
          ],
          "scattergeo": [
           {
            "marker": {
             "colorbar": {
              "outlinewidth": 0,
              "ticks": ""
             }
            },
            "type": "scattergeo"
           }
          ],
          "scattergl": [
           {
            "marker": {
             "colorbar": {
              "outlinewidth": 0,
              "ticks": ""
             }
            },
            "type": "scattergl"
           }
          ],
          "scattermapbox": [
           {
            "marker": {
             "colorbar": {
              "outlinewidth": 0,
              "ticks": ""
             }
            },
            "type": "scattermapbox"
           }
          ],
          "scatterpolar": [
           {
            "marker": {
             "colorbar": {
              "outlinewidth": 0,
              "ticks": ""
             }
            },
            "type": "scatterpolar"
           }
          ],
          "scatterpolargl": [
           {
            "marker": {
             "colorbar": {
              "outlinewidth": 0,
              "ticks": ""
             }
            },
            "type": "scatterpolargl"
           }
          ],
          "scatterternary": [
           {
            "marker": {
             "colorbar": {
              "outlinewidth": 0,
              "ticks": ""
             }
            },
            "type": "scatterternary"
           }
          ],
          "surface": [
           {
            "colorbar": {
             "outlinewidth": 0,
             "ticks": ""
            },
            "colorscale": [
             [
              0,
              "#0d0887"
             ],
             [
              0.1111111111111111,
              "#46039f"
             ],
             [
              0.2222222222222222,
              "#7201a8"
             ],
             [
              0.3333333333333333,
              "#9c179e"
             ],
             [
              0.4444444444444444,
              "#bd3786"
             ],
             [
              0.5555555555555556,
              "#d8576b"
             ],
             [
              0.6666666666666666,
              "#ed7953"
             ],
             [
              0.7777777777777778,
              "#fb9f3a"
             ],
             [
              0.8888888888888888,
              "#fdca26"
             ],
             [
              1,
              "#f0f921"
             ]
            ],
            "type": "surface"
           }
          ],
          "table": [
           {
            "cells": {
             "fill": {
              "color": "#EBF0F8"
             },
             "line": {
              "color": "white"
             }
            },
            "header": {
             "fill": {
              "color": "#C8D4E3"
             },
             "line": {
              "color": "white"
             }
            },
            "type": "table"
           }
          ]
         },
         "layout": {
          "annotationdefaults": {
           "arrowcolor": "#2a3f5f",
           "arrowhead": 0,
           "arrowwidth": 1
          },
          "autotypenumbers": "strict",
          "coloraxis": {
           "colorbar": {
            "outlinewidth": 0,
            "ticks": ""
           }
          },
          "colorscale": {
           "diverging": [
            [
             0,
             "#8e0152"
            ],
            [
             0.1,
             "#c51b7d"
            ],
            [
             0.2,
             "#de77ae"
            ],
            [
             0.3,
             "#f1b6da"
            ],
            [
             0.4,
             "#fde0ef"
            ],
            [
             0.5,
             "#f7f7f7"
            ],
            [
             0.6,
             "#e6f5d0"
            ],
            [
             0.7,
             "#b8e186"
            ],
            [
             0.8,
             "#7fbc41"
            ],
            [
             0.9,
             "#4d9221"
            ],
            [
             1,
             "#276419"
            ]
           ],
           "sequential": [
            [
             0,
             "#0d0887"
            ],
            [
             0.1111111111111111,
             "#46039f"
            ],
            [
             0.2222222222222222,
             "#7201a8"
            ],
            [
             0.3333333333333333,
             "#9c179e"
            ],
            [
             0.4444444444444444,
             "#bd3786"
            ],
            [
             0.5555555555555556,
             "#d8576b"
            ],
            [
             0.6666666666666666,
             "#ed7953"
            ],
            [
             0.7777777777777778,
             "#fb9f3a"
            ],
            [
             0.8888888888888888,
             "#fdca26"
            ],
            [
             1,
             "#f0f921"
            ]
           ],
           "sequentialminus": [
            [
             0,
             "#0d0887"
            ],
            [
             0.1111111111111111,
             "#46039f"
            ],
            [
             0.2222222222222222,
             "#7201a8"
            ],
            [
             0.3333333333333333,
             "#9c179e"
            ],
            [
             0.4444444444444444,
             "#bd3786"
            ],
            [
             0.5555555555555556,
             "#d8576b"
            ],
            [
             0.6666666666666666,
             "#ed7953"
            ],
            [
             0.7777777777777778,
             "#fb9f3a"
            ],
            [
             0.8888888888888888,
             "#fdca26"
            ],
            [
             1,
             "#f0f921"
            ]
           ]
          },
          "colorway": [
           "#636efa",
           "#EF553B",
           "#00cc96",
           "#ab63fa",
           "#FFA15A",
           "#19d3f3",
           "#FF6692",
           "#B6E880",
           "#FF97FF",
           "#FECB52"
          ],
          "font": {
           "color": "#2a3f5f"
          },
          "geo": {
           "bgcolor": "white",
           "lakecolor": "white",
           "landcolor": "#E5ECF6",
           "showlakes": true,
           "showland": true,
           "subunitcolor": "white"
          },
          "hoverlabel": {
           "align": "left"
          },
          "hovermode": "closest",
          "mapbox": {
           "style": "light"
          },
          "paper_bgcolor": "white",
          "plot_bgcolor": "#E5ECF6",
          "polar": {
           "angularaxis": {
            "gridcolor": "white",
            "linecolor": "white",
            "ticks": ""
           },
           "bgcolor": "#E5ECF6",
           "radialaxis": {
            "gridcolor": "white",
            "linecolor": "white",
            "ticks": ""
           }
          },
          "scene": {
           "xaxis": {
            "backgroundcolor": "#E5ECF6",
            "gridcolor": "white",
            "gridwidth": 2,
            "linecolor": "white",
            "showbackground": true,
            "ticks": "",
            "zerolinecolor": "white"
           },
           "yaxis": {
            "backgroundcolor": "#E5ECF6",
            "gridcolor": "white",
            "gridwidth": 2,
            "linecolor": "white",
            "showbackground": true,
            "ticks": "",
            "zerolinecolor": "white"
           },
           "zaxis": {
            "backgroundcolor": "#E5ECF6",
            "gridcolor": "white",
            "gridwidth": 2,
            "linecolor": "white",
            "showbackground": true,
            "ticks": "",
            "zerolinecolor": "white"
           }
          },
          "shapedefaults": {
           "line": {
            "color": "#2a3f5f"
           }
          },
          "ternary": {
           "aaxis": {
            "gridcolor": "white",
            "linecolor": "white",
            "ticks": ""
           },
           "baxis": {
            "gridcolor": "white",
            "linecolor": "white",
            "ticks": ""
           },
           "bgcolor": "#E5ECF6",
           "caxis": {
            "gridcolor": "white",
            "linecolor": "white",
            "ticks": ""
           }
          },
          "title": {
           "x": 0.05
          },
          "xaxis": {
           "automargin": true,
           "gridcolor": "white",
           "linecolor": "white",
           "ticks": "",
           "title": {
            "standoff": 15
           },
           "zerolinecolor": "white",
           "zerolinewidth": 2
          },
          "yaxis": {
           "automargin": true,
           "gridcolor": "white",
           "linecolor": "white",
           "ticks": "",
           "title": {
            "standoff": 15
           },
           "zerolinecolor": "white",
           "zerolinewidth": 2
          }
         }
        }
       }
      }
     },
     "metadata": {},
     "output_type": "display_data"
    }
   ],
   "source": [
    "import plotly.graph_objects as go \n",
    "\n",
    "v_1 = np.array([3, 5, 1])\n",
    "v_2 = np.array([0, 2, 2])\n",
    "\n",
    "xlim = [-4, 4]\n",
    "\n",
    "scale = np.random.uniform(low = xlim[0], high = xlim[1], size = (100, 2))\n",
    "\n",
    "point = np.zeros((100, 3))\n",
    "\n",
    "for i in range(len(scale)): \n",
    "    point[i, :] = v_1 * scale[i, 0]  + v_2 * scale[i, 1]\n",
    "\n",
    "fig = go.Figure(data = [\n",
    "    go.Scatter3d(x = point[:, 0], y = point[:, 1], z = point[:, 2], mode = 'markers')\n",
    "])\n",
    "\n",
    "fig.show()"
   ]
  }
 ],
 "metadata": {
  "kernelspec": {
   "display_name": "cs197",
   "language": "python",
   "name": "python3"
  },
  "language_info": {
   "codemirror_mode": {
    "name": "ipython",
    "version": 3
   },
   "file_extension": ".py",
   "mimetype": "text/x-python",
   "name": "python",
   "nbconvert_exporter": "python",
   "pygments_lexer": "ipython3",
   "version": "3.9.0"
  }
 },
 "nbformat": 4,
 "nbformat_minor": 2
}
