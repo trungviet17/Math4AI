{
 "cells": [
  {
   "cell_type": "markdown",
   "metadata": {},
   "source": [
    "# Code Exercises"
   ]
  },
  {
   "cell_type": "code",
   "execution_count": 103,
   "metadata": {},
   "outputs": [],
   "source": [
    "import numpy as np \n",
    "import matplotlib.pyplot as plt"
   ]
  },
  {
   "cell_type": "markdown",
   "metadata": {},
   "source": [
    "Exercise 9-1.\n",
    "A square Q has the following equalities:\n",
    "$$ Q^TQ = QQ^T = Q^{-1}Q = QQ^{-1} = I $$\n",
    "Demonstrate this in code by computing Q from a random-numbers matrix, then\n",
    "compute $Q ^T $\n",
    " and $Q^{−1} $. Then show that all four expressions produce the identity matrix"
   ]
  },
  {
   "cell_type": "code",
   "execution_count": 104,
   "metadata": {},
   "outputs": [
    {
     "name": "stdout",
     "output_type": "stream",
     "text": [
      "QtQ = [[ 1.00000000e+00  2.87952428e-16 -8.25096298e-17  1.56321862e-16\n",
      "  -6.96640890e-17  1.69239134e-16]\n",
      " [ 2.87952428e-16  1.00000000e+00  1.25864555e-17 -2.50534500e-17\n",
      "  -1.07731507e-17  3.79649554e-17]\n",
      " [-8.25096298e-17  1.25864555e-17  1.00000000e+00  5.83594496e-17\n",
      "  -3.06196961e-17  5.65292069e-17]\n",
      " [ 1.56321862e-16 -2.50534500e-17  5.83594496e-17  1.00000000e+00\n",
      "   1.57968748e-17 -1.14026552e-16]\n",
      " [-6.96640890e-17 -1.07731507e-17 -3.06196961e-17  1.57968748e-17\n",
      "   1.00000000e+00  4.23132388e-17]\n",
      " [ 1.69239134e-16  3.79649554e-17  5.65292069e-17 -1.14026552e-16\n",
      "   4.23132388e-17  1.00000000e+00]]\n",
      "QQt = [[ 1.00000000e+00 -2.11850857e-16  2.32689607e-16 -2.15677280e-16\n",
      "   8.94100569e-17 -6.75340672e-17]\n",
      " [-2.11850857e-16  1.00000000e+00  1.03769237e-16  4.72860900e-18\n",
      "   1.02255748e-16 -7.05669346e-18]\n",
      " [ 2.32689607e-16  1.03769237e-16  1.00000000e+00  4.53555833e-17\n",
      "  -8.28520052e-17  2.02886806e-17]\n",
      " [-2.15677280e-16  4.72860900e-18  4.53555833e-17  1.00000000e+00\n",
      "   5.42930136e-17 -1.92639399e-17]\n",
      " [ 8.94100569e-17  1.02255748e-16 -8.28520052e-17  5.42930136e-17\n",
      "   1.00000000e+00  4.04081960e-17]\n",
      " [-6.75340672e-17 -7.05669346e-18  2.02886806e-17 -1.92639399e-17\n",
      "   4.04081960e-17  1.00000000e+00]]\n",
      "QinvQ = [[ 1.00000000e+00  1.60446079e-17  2.14794251e-17  8.60863935e-17\n",
      "   5.20461316e-17  1.64618245e-17]\n",
      " [-8.32783961e-17  1.00000000e+00  6.80976068e-17 -2.50534500e-17\n",
      "  -6.62843019e-17  6.57205310e-17]\n",
      " [-9.11935016e-17  2.58187645e-17  1.00000000e+00  2.32417152e-17\n",
      "  -4.26229718e-17  3.13148944e-17]\n",
      " [-3.44156845e-17  3.56215318e-17 -4.88159911e-17  1.00000000e+00\n",
      "   5.63119290e-17 -7.88455064e-17]\n",
      " [-2.46433143e-17  3.95741700e-17 -6.71098221e-18  1.24107561e-17\n",
      "   1.00000000e+00  6.26433445e-17]\n",
      " [-2.14984123e-17 -6.78935165e-17 -3.67684461e-17  2.81374449e-17\n",
      "  -4.38433931e-19  1.00000000e+00]]\n",
      "QQinv = [[ 1.00000000e+00  2.63492049e-17 -3.29471058e-17 -2.06290277e-17\n",
      "   6.14333003e-18  1.72511054e-17]\n",
      " [-5.97804961e-17  1.00000000e+00  9.63836700e-17 -2.33196193e-17\n",
      "   1.89890208e-17 -2.15197867e-17]\n",
      " [ 2.27286551e-17  1.78113081e-17  1.00000000e+00 -4.98110322e-18\n",
      "  -1.51977897e-17 -2.32213604e-18]\n",
      " [-9.13402913e-17 -9.32605580e-17  5.18318448e-17  1.00000000e+00\n",
      "  -2.89737132e-17 -3.37048293e-17]\n",
      " [ 2.43060320e-17  4.62330737e-17 -5.08036369e-17 -1.98923623e-17\n",
      "   1.00000000e+00 -5.24514046e-17]\n",
      " [ 9.28034173e-18  1.56737177e-16  3.66356676e-17 -4.33067806e-17\n",
      "   4.04081960e-17  1.00000000e+00]]\n"
     ]
    }
   ],
   "source": [
    "A = np.random.randn(6, 6)\n",
    "\n",
    "Q, R = np.linalg.qr(A)\n",
    "Qinv = np.linalg.inv(Q)\n",
    "\n",
    "QtQ = Q.T @ Q \n",
    "QQt = Q @ Q.T \n",
    "QinvQ = Qinv @ Q \n",
    "QQinv = Q @ Qinv \n",
    "print(f'QtQ = {QtQ}')\n",
    "print(f'QQt = {QQt}')\n",
    "print(f'QinvQ = {QinvQ}')\n",
    "print(f'QQinv = {QQinv}')"
   ]
  },
  {
   "cell_type": "markdown",
   "metadata": {},
   "source": [
    "Exercise 9-2.\n",
    "Implement the Gram-Schmidt procedure as described earlier.4\n",
    " Use a 4 × 4 random\u0002numbers matrix. Check your answer against Q from np.linalg.qr.\n",
    "Important: there is a fundamental sign uncertainty in transformations like the\n",
    "Householder reflection. This means that vectors can “flip” (be multiplied by −1)\n",
    "depending on minor differences in algorithm and implementation. This feature exists\n",
    "in many matrix decompositions including eigenvectors. I have a longer and more\n",
    "in-depth discussion of why this is and what it means in Chapter 13. For now, the\n",
    "upshot is this: subtract your Q from Python’s Q and add your Q and Python’s Q.\n",
    "Nonzero columns in one will be zeros in the other."
   ]
  },
  {
   "cell_type": "code",
   "execution_count": 105,
   "metadata": {},
   "outputs": [],
   "source": [
    "def GS_process(A : np.array) : \n",
    "    Q = np.zeros(A.shape)\n",
    "\n",
    "    for i in range(A.shape[1]) : \n",
    "        Q[:, i] = A[:, i]\n",
    "        a = A[:, i]\n",
    "        for j in range(i) : \n",
    "            p = Q[:, j]\n",
    "            Q[:, i] = Q[:, i] - np.dot(a, p) / np.dot(p, p) * p\n",
    "        \n",
    "        Q[:, i] /= np.linalg.norm(Q[:, i])\n",
    "\n",
    "    return Q\n"
   ]
  },
  {
   "cell_type": "code",
   "execution_count": 106,
   "metadata": {},
   "outputs": [],
   "source": [
    "A = np.random.randn(4, 4)\n",
    "\n",
    "Q_1 = GS_process(A)\n",
    "\n",
    "Q_2, r = np.linalg.qr(A)"
   ]
  },
  {
   "cell_type": "code",
   "execution_count": 107,
   "metadata": {},
   "outputs": [
    {
     "data": {
      "image/png": "[encoded data removed]",
      "text/plain": [
       "<Figure size 640x480 with 3 Axes>"
      ]
     },
     "metadata": {},
     "output_type": "display_data"
    }
   ],
   "source": [
    "fig, ax = plt.subplots(ncols = 3)\n",
    "\n",
    "ax[0].imshow(Q_1)\n",
    "ax[0].set_title('My implement')\n",
    "\n",
    "ax[1].imshow(Q_2) \n",
    "ax[1].set_title('np.linalg.qr')\n",
    "\n",
    "ax[2].imshow(Q_1 - Q_2)\n",
    "ax[2].set_title('Subtract')\n",
    "\n",
    "plt.show()"
   ]
  },
  {
   "cell_type": "markdown",
   "metadata": {},
   "source": [
    "Exercise 9-3.\n",
    "In this exercise, you will find out what happens when you apply QR decomposition\n",
    "to a matrix that is almost-but-not-quite orthogonal. First, create an orthogonal matrix,\n",
    "called U, from the QR decomposition of a 6 × 6 random-numbers matrix. Compute\n",
    "the QR decomposition of U, and confirm that R = I (and make sure you understand\n",
    "why!).\n",
    "Second, modify the norms of each column of U. Set the norms of columns 1–6 to be\n",
    "10–15 (that is, the first column of U should have a norm of 10, the second column\n",
    "Code Exercises | 155\n",
    "should have a norm of 11, and so on). Run that modulated U matrix through QR\n",
    "decomposition and confirm that its R is a diagonal matrix with diagonal elements\n",
    "equaling 10–15. What is Q\n",
    "TQ for this matrix?\n",
    "Third, break the orthogonality of U by setting element u1, 4 = 0. What happens to R\n",
    "and why?\n"
   ]
  },
  {
   "cell_type": "code",
   "execution_count": 108,
   "metadata": {},
   "outputs": [],
   "source": [
    "A = np.random.randn(6, 6)\n",
    "\n",
    "U, R = np.linalg.qr(A)"
   ]
  },
  {
   "cell_type": "code",
   "execution_count": 109,
   "metadata": {},
   "outputs": [],
   "source": [
    "T, M = np.linalg.qr(U)"
   ]
  },
  {
   "cell_type": "code",
   "execution_count": 110,
   "metadata": {},
   "outputs": [
    {
     "data": {
      "image/png": "[encoded data removed]",
      "text/plain": [
       "<Figure size 640x480 with 2 Axes>"
      ]
     },
     "metadata": {},
     "output_type": "display_data"
    }
   ],
   "source": [
    "fig, ax = plt.subplots(nrows = 1, ncols = 2)\n",
    "\n",
    "ax[0].imshow(U)\n",
    "ax[0].set_title('U')\n",
    "\n",
    "ax[1].imshow(M)\n",
    "ax[1].set_title('M')\n",
    "\n",
    "plt.show()"
   ]
  },
  {
   "cell_type": "code",
   "execution_count": 111,
   "metadata": {},
   "outputs": [
    {
     "data": {
      "text/plain": [
       "array([[-0.51406922,  0.57533721, -0.01603441,  0.25662538, -0.10731012,\n",
       "         0.57191851],\n",
       "       [-0.51374074, -0.21062583,  0.39434683,  0.46288801,  0.43437538,\n",
       "        -0.36503495],\n",
       "       [ 0.01465547, -0.55419182, -0.49369363,  0.25427644,  0.35367185,\n",
       "         0.50910014],\n",
       "       [ 0.09211089,  0.34518182,  0.05113974, -0.4631521 ,  0.80380121,\n",
       "         0.09562203],\n",
       "       [-0.52407228,  0.05352491, -0.68022129, -0.28193183, -0.03173067,\n",
       "        -0.42342643],\n",
       "       [-0.43411097, -0.44213106,  0.3676735 , -0.60102094, -0.16617933,\n",
       "         0.30338464]])"
      ]
     },
     "execution_count": 111,
     "metadata": {},
     "output_type": "execute_result"
    }
   ],
   "source": [
    "U"
   ]
  },
  {
   "cell_type": "code",
   "execution_count": 112,
   "metadata": {},
   "outputs": [
    {
     "data": {
      "text/plain": [
       "<matplotlib.image.AxesImage at 0x263c12bc190>"
      ]
     },
     "execution_count": 112,
     "metadata": {},
     "output_type": "execute_result"
    },
    {
     "data": {
      "image/png": "[encoded data removed]",
      "text/plain": [
       "<Figure size 640x480 with 1 Axes>"
      ]
     },
     "metadata": {},
     "output_type": "display_data"
    }
   ],
   "source": [
    "for i in range(U.shape[0]) : \n",
    "    U[:, i] = U[:, i] * (10 + i)\n",
    "plt.imshow(U)"
   ]
  },
  {
   "cell_type": "code",
   "execution_count": 113,
   "metadata": {},
   "outputs": [
    {
     "data": {
      "text/plain": [
       "<matplotlib.image.AxesImage at 0x263c0ce9190>"
      ]
     },
     "execution_count": 113,
     "metadata": {},
     "output_type": "execute_result"
    },
    {
     "data": {
      "image/png": "[encoded data removed]",
      "text/plain": [
       "<Figure size 640x480 with 1 Axes>"
      ]
     },
     "metadata": {},
     "output_type": "display_data"
    }
   ],
   "source": [
    "T, R = np.linalg.qr(U)\n",
    "plt.imshow(R)"
   ]
  },
  {
   "cell_type": "code",
   "execution_count": 114,
   "metadata": {},
   "outputs": [
    {
     "data": {
      "text/plain": [
       "<matplotlib.image.AxesImage at 0x263c2914f40>"
      ]
     },
     "execution_count": 114,
     "metadata": {},
     "output_type": "execute_result"
    },
    {
     "data": {
      "image/png": "[encoded data removed]",
      "text/plain": [
       "<Figure size 640x480 with 1 Axes>"
      ]
     },
     "metadata": {},
     "output_type": "display_data"
    }
   ],
   "source": [
    "U[0, 3] = 0 \n",
    "T, R = np.linalg.qr(U)\n",
    "plt.imshow(R)"
   ]
  },
  {
   "cell_type": "markdown",
   "metadata": {},
   "source": [
    "Exercise 9-4.\n",
    "The purpose of this exercise is to compare the numerical errors using the “old-school”\n",
    "inverse method you learned in the previous chapter to the QR-based inverse method.\n",
    "We will use random-numbers matrices, keeping in mind that they tend to be numeri‐\n",
    "cally stable and thus have accurate inverses.\n",
    "Here’s what to do: copy the code from Exercise 8-2 into a Python function that takes a\n",
    "matrix as input and provides its inverse as output. (You can also include a check that\n",
    "the input matrix is square and full-rank.) I called this function oldSchoolInv. Next,\n",
    "create a 5 × 5 random-numbers matrix. Compute its inverse using the old-school\n",
    "method and the QR decomposition method introduced in this chapter (you can use\n",
    "your “old-school method” to compute R\n",
    "−1). Compute the inverse-estimation error as\n",
    "the Euclidean distance from the matrix times its inverse to the true identity matrix\n",
    "from np.eye. Make a barplot of the results, showing the two methods on the x-axis\n",
    "and the error (Euclidean distance to I) on the y-axis, as in Figure 9-3.\n"
   ]
  },
  {
   "cell_type": "code",
   "execution_count": 115,
   "metadata": {},
   "outputs": [],
   "source": [
    "def inverse_matrix (A: np.array) : \n",
    "    if A.shape[0] != A.shape[1] : return None \n",
    "\n",
    "\n",
    "    minor_matrix = np.zeros(A.shape)\n",
    "    grid_matrix = np.zeros(A.shape)\n",
    "\n",
    "    for i in range(A.shape[0]): \n",
    "        for j in range(A.shape[1]): \n",
    "            grid_matrix[i, j] = (-1) ** (i + j)\n",
    "\n",
    "            sub_matrix = np.delete(np.delete(A, i, axis = 0), j, axis = 1)\n",
    "            minor_matrix[i, j] = np.linalg.det(sub_matrix)\n",
    "\n",
    "    cofactor_matrix = minor_matrix * grid_matrix \n",
    "    adj_matrix = cofactor_matrix.T\n",
    "    return adj_matrix \n",
    "\n",
    "\n",
    "def orthogonal_inverse_matrix(A: np.array): \n",
    "    Q, R = np.linalg.qr(A)\n",
    "    return np.linalg.inv(R) * Q.T\n"
   ]
  },
  {
   "cell_type": "code",
   "execution_count": 116,
   "metadata": {},
   "outputs": [],
   "source": [
    "sse = []\n",
    "N = 30\n",
    "A = np.random.randn(N, N)\n",
    "sse.append(np.sqrt(np.sum((inverse_matrix(A) - np.eye(N))**2)))\n",
    "sse.append(np.sqrt(np.sum((orthogonal_inverse_matrix(A) - np.eye(N)) **2)))"
   ]
  },
  {
   "cell_type": "code",
   "execution_count": 117,
   "metadata": {},
   "outputs": [
    {
     "data": {
      "image/png": "[encoded data removed]",
      "text/plain": [
       "<Figure size 640x480 with 1 Axes>"
      ]
     },
     "metadata": {},
     "output_type": "display_data"
    }
   ],
   "source": [
    "\n",
    "plt.bar(range(2), sse, color = 'green')\n",
    "plt.xticks(range(2), labels= ['Old-School', 'Orthogonal'])\n",
    "plt.ylim([0, np.max(sse) * 1.1])\n",
    "plt.title(f'Inverse error of {N}x{N} matrix')\n",
    "plt.show()"
   ]
  },
  {
   "cell_type": "markdown",
   "metadata": {},
   "source": [
    "=> Với matrix càng lớn, hướng tiếp cận sử dụng orthogonal càng tối ưu, ít sai số hơn."
   ]
  },
  {
   "cell_type": "markdown",
   "metadata": {},
   "source": [
    "Exercise 9-5.\n",
    "Put the code from the previous exercise into a for loop over a hundred iterations\n",
    "in which you repeat the experiment, each time using a different random-numbers\n",
    "matrix. Store the error (Euclidean distance) for each iteration, and make a plot like\n",
    "Figure 9-4, which shows the average over all experiment runs (gray bar) and all\n",
    "individual errors (black dots). Run the experiment for 5 × 5 and 30 × 30 matrices.\n",
    "You can also try using np.linalg.inv to invert R instead of the old-school method to\n",
    "see if that has an effect.\n"
   ]
  },
  {
   "cell_type": "code",
   "execution_count": 118,
   "metadata": {},
   "outputs": [],
   "source": [
    "def old_school_vs_orthogonal_method(numExp: int, N: int): \n",
    "    see = np.zeros((numExp,  2))\n",
    "    for i in range(numExp): \n",
    "        A = np.random.randn(N, N)\n",
    "\n",
    "        A_old_inv = inverse_matrix(A) \n",
    "        see[i, 0] = np.sqrt(np.sum((A_old_inv - np.eye(N)) ** 2))\n",
    "\n",
    "        A_orth_inv = orthogonal_inverse_matrix(A)\n",
    "        see[i, 1] = np.sqrt(np.sum((A_orth_inv - np.eye(N)) **2))\n",
    "\n",
    "    return see "
   ]
  },
  {
   "cell_type": "code",
   "execution_count": 119,
   "metadata": {},
   "outputs": [
    {
     "data": {
      "image/png": "[encoded data removed]",
      "text/plain": [
       "<Figure size 1000x500 with 2 Axes>"
      ]
     },
     "metadata": {},
     "output_type": "display_data"
    }
   ],
   "source": [
    "see_5 = old_school_vs_orthogonal_method(30,  5)\n",
    "see_30 = old_school_vs_orthogonal_method(30, 30)\n",
    "\n",
    "fig, ax = plt.subplots(nrows = 1, ncols = 2, figsize = (10, 5))\n",
    "\n",
    "\n",
    "ax[0].bar(range(2), np.mean(see_5, axis = 0), color = 'green')\n",
    "ax[0].plot(np.zeros(30), see_5[:, 0], 'ko')\n",
    "ax[0].plot(np.ones(30), see_5[:, 1], 'ko')\n",
    "ax[0].set_xticks(range(2), labels = ['Old School', 'QR'])\n",
    "ax[0].set_title(f'Inverse error ({5}x{5} matrix)')\n",
    "\n",
    "\n",
    "\n",
    "ax[1].bar(range(2), np.mean(see_30, axis = 0), color = 'green')\n",
    "ax[1].plot(np.zeros(30), see_30[:, 0], 'ko')\n",
    "ax[1].plot(np.ones(30), see_30[:, 1], 'ko')\n",
    "ax[1].set_xticks(range(2), labels = ['Old School', 'QR'])\n",
    "ax[1].set_title(f'Inverse error ({30}x{30} matrix)')\n",
    "\n",
    "plt.show()"
   ]
  },
  {
   "cell_type": "markdown",
   "metadata": {},
   "source": [
    "Exercise 9-6.\n",
    "An interesting property of square orthogonal matrices is that all of their singular\n",
    "values (and their eigenvalues) are 1. That means that they have an induced 2-norm of\n",
    "1 (the induced norm is the largest singular value), and they have a Frobenius norm of\n",
    "M. The latter result is because the Frobenius norm equals the square root of the sum\n",
    "of the squared singular values. In this exercise, you will confirm these properties.\n",
    "Create an M × M orthogonal matrix as the QR decomposition of a random matrix.\n",
    "Compute its induced 2-norm using np.linalg.norm and compute its Frobenius\n",
    "norm using the equation you learned in Chapter 6, divided by the square root of\n",
    "Code Exercises | 157\n",
    "5 Hint: write down the dot-product formula for the vector norm.\n",
    "M. Confirm that both quantities are 1 (to within a reasonable tolerance of rounding\n",
    "error). Check using several different values of M.\n",
    "Next, explore the meaning of the induced norm using matrix-vector multiplication.\n",
    "Create a random M-element column vector v. Then compute the norms of v and\n",
    "Qv. Those norms should equal each other (although you wouldn’t expect them to\n",
    "equal 1).\n",
    "Finally, get a piece of paper and develop a proof of that empirical demonstration.\n",
    "That proof is printed in the next paragraph, so don’t look down! But you can check\n",
    "the footnote if you need a hint.5\n",
    "I sincerely hope you are reading this to check your reasoning, not because you are\n",
    "cheating! Anyway, the proof is that the vector norm ∥ v ∥ can be computed as v\n",
    "Tv;\n",
    "therefore, the vector norm ∥ Qv ∥ is computed as Qv T\n",
    "Qv = v\n",
    "TQ\n",
    "TQv. The Q\n",
    "TQ\n",
    "cancels to give the identity matrix, leaving the dot product of the vector with itself.\n",
    "The conclusion is that orthogonal matrices can rotate but never scale a vector.\n"
   ]
  },
  {
   "cell_type": "code",
   "execution_count": 120,
   "metadata": {},
   "outputs": [
    {
     "name": "stdout",
     "output_type": "stream",
     "text": [
      "Norm of random 30x30 matrix using numpy method is 1.0000000000000004\n",
      "Norm of random 30x30 matrix using old school method is :1.0\n"
     ]
    }
   ],
   "source": [
    "# create matrix \n",
    "M = 30\n",
    "A = np.random.randn(M, M)\n",
    "\n",
    "Q, R = np.linalg.qr(A)\n",
    "\n",
    "# Compute matrix induced 2-norm \n",
    "lib_norm = np.linalg.norm(Q, 2)\n",
    "old_norm = np.sqrt(np.sum(Q**2)) / np.sqrt(M)\n",
    "print(f'Norm of random {M}x{M} matrix using numpy method is {lib_norm}')\n",
    "print(f'Norm of random {M}x{M} matrix using old school method is :{old_norm}')\n"
   ]
  },
  {
   "cell_type": "markdown",
   "metadata": {},
   "source": [
    "=> A square orthogonal matrix is all of their singular value and their eigenvalues is 1"
   ]
  },
  {
   "cell_type": "code",
   "execution_count": 121,
   "metadata": {},
   "outputs": [
    {
     "name": "stdout",
     "output_type": "stream",
     "text": [
      "Norm is Q @ v is 5.533537506578236\n",
      "Norm v is 5.533537506578236\n"
     ]
    }
   ],
   "source": [
    "v = np.random.randn(M, 1)\n",
    "norm_with_Q = np.linalg.norm(Q @ v)\n",
    "norm_origin = np.linalg.norm(v)\n",
    "print(f'Norm is Q @ v is {norm_with_Q}')\n",
    "print(f'Norm v is {norm_origin}')"
   ]
  },
  {
   "cell_type": "markdown",
   "metadata": {},
   "source": [
    "Chứng minh : Norm của matrix Q luôn bằng 1 và norm của Q @ v = Q ? \n",
    "$$ \\| Q \\| \\|v \\| = (Qv) ^T (Qv) = v^T Q^T Q v = v^T v = \\| v \\| $$ \n",
    "- Norm của Q luôn bằng 1 dựa theo công thức dot product để tính norm vì Q là trực giao nên $\\| Q \\| = (QQ^T) = 1 $$"
   ]
  },
  {
   "cell_type": "markdown",
   "metadata": {},
   "source": [
    "Exercise 9-7.\n",
    "This exercise will highlight one feature of the R matrix that is relevant for under‐\n",
    "standing how to use QR to implement least squares (Chapter 12): when A is tall\n",
    "and full column-rank, the first N rows of R are upper-triangular, whereas rows N\n",
    "\\+ 1 through M are zeros. Confirm this in Python using a random 10 × 4 matrix.\n",
    "Make sure to use the complete (full) QR decomposition, not the economy (compact)\n",
    "decomposition.\n",
    "Of course, R is noninvertible because it is nonsquare. But (1) the submatrix compris‐\n",
    "ing the first N rows is square and full-rank (when A is full column-rank) and thus\n",
    "has a full inverse, and (2) the tall R has a pseudoinverse. Compute both inverses, and\n",
    "confirm that the full inverse of the first N rows of R equals the first N columns of the\n",
    "pseudoinverse of the tall R"
   ]
  },
  {
   "cell_type": "code",
   "execution_count": 122,
   "metadata": {},
   "outputs": [
    {
     "data": {
      "text/plain": [
       "array([[-3.758, -0.138, -1.084,  0.94 ],\n",
       "       [ 0.   , -4.525, -1.224, -0.296],\n",
       "       [ 0.   ,  0.   ,  2.057, -0.271],\n",
       "       [ 0.   ,  0.   ,  0.   , -2.176],\n",
       "       [ 0.   ,  0.   ,  0.   ,  0.   ],\n",
       "       [ 0.   ,  0.   ,  0.   ,  0.   ],\n",
       "       [ 0.   ,  0.   ,  0.   ,  0.   ],\n",
       "       [ 0.   ,  0.   ,  0.   ,  0.   ],\n",
       "       [ 0.   ,  0.   ,  0.   ,  0.   ],\n",
       "       [ 0.   ,  0.   ,  0.   ,  0.   ]])"
      ]
     },
     "execution_count": 122,
     "metadata": {},
     "output_type": "execute_result"
    }
   ],
   "source": [
    "A = np.random.randn(10, 4)\n",
    "_, R = np.linalg.qr(A, 'complete')\n",
    "np.round(R, 3)"
   ]
  },
  {
   "cell_type": "code",
   "execution_count": 123,
   "metadata": {},
   "outputs": [
    {
     "data": {
      "text/plain": [
       "<matplotlib.image.AxesImage at 0x263c2873550>"
      ]
     },
     "execution_count": 123,
     "metadata": {},
     "output_type": "execute_result"
    },
    {
     "data": {
      "image/png": "[encoded data removed]",
      "text/plain": [
       "<Figure size 640x480 with 1 Axes>"
      ]
     },
     "metadata": {},
     "output_type": "display_data"
    }
   ],
   "source": [
    "plt.imshow(R)"
   ]
  },
  {
   "cell_type": "markdown",
   "metadata": {},
   "source": [
    "=> R is noninvertible due to nonsquare. But there are some property that you must watch out. First : the submatrix comprising the first N rows is square and full-rank. The tall R has psuedoinverse and the full inverse of the first N rows in R equals the first N columns of the psuedoinverse of the tall R "
   ]
  },
  {
   "cell_type": "code",
   "execution_count": 124,
   "metadata": {},
   "outputs": [
    {
     "data": {
      "text/plain": [
       "array([[-3.75846805, -0.13789891, -1.0842273 ,  0.93971468],\n",
       "       [ 0.        , -4.52520504, -1.22391009, -0.29640756],\n",
       "       [ 0.        ,  0.        ,  2.05678278, -0.27104888],\n",
       "       [ 0.        ,  0.        ,  0.        , -2.17626196]])"
      ]
     },
     "execution_count": 124,
     "metadata": {},
     "output_type": "execute_result"
    }
   ],
   "source": [
    "R[:4, :]"
   ]
  },
  {
   "cell_type": "code",
   "execution_count": 125,
   "metadata": {},
   "outputs": [
    {
     "data": {
      "image/png": "[encoded data removed]",
      "text/plain": [
       "<Figure size 1000x600 with 2 Axes>"
      ]
     },
     "metadata": {},
     "output_type": "display_data"
    }
   ],
   "source": [
    "full_inv = R[:4, :]\n",
    "psudo_inv = np.linalg.pinv(R)\n",
    "\n",
    "fig, ax = plt.subplots(ncols = 2, figsize = (10, 6))\n",
    "ax[0].imshow(np.round(full_inv, 3))\n",
    "ax[0].set_title('The full inverse \\n of the first N rows of R')\n",
    "\n",
    "ax[1].imshow(np.round(psudo_inv[:, :4], 3))\n",
    "ax[1].set_title('The first N columns \\n of the pseudoinverse of the tall R')\n",
    "\n",
    "plt.show()"
   ]
  }
 ],
 "metadata": {
  "kernelspec": {
   "display_name": "cs197",
   "language": "python",
   "name": "python3"
  },
  "language_info": {
   "codemirror_mode": {
    "name": "ipython",
    "version": 3
   },
   "file_extension": ".py",
   "mimetype": "text/x-python",
   "name": "python",
   "nbconvert_exporter": "python",
   "pygments_lexer": "ipython3",
   "version": "3.9.0"
  }
 },
 "nbformat": 4,
 "nbformat_minor": 2
}
