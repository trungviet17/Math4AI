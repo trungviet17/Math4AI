{
 "cells": [
  {
   "cell_type": "markdown",
   "metadata": {},
   "source": [
    "# Code Exercises"
   ]
  },
  {
   "cell_type": "code",
   "execution_count": 12,
   "metadata": {},
   "outputs": [],
   "source": [
    "import numpy as np \n",
    "import matplotlib.pyplot as plt"
   ]
  },
  {
   "cell_type": "markdown",
   "metadata": {},
   "source": [
    "Exercise 9-1.\n",
    "A square Q has the following equalities:\n",
    "$$ Q^TQ = QQ^T = Q^{-1}Q = QQ^{-1} = I $$\n",
    "Demonstrate this in code by computing Q from a random-numbers matrix, then\n",
    "compute $Q ^T $\n",
    " and $Q^{−1} $. Then show that all four expressions produce the identity matrix"
   ]
  },
  {
   "cell_type": "code",
   "execution_count": 13,
   "metadata": {},
   "outputs": [
    {
     "name": "stdout",
     "output_type": "stream",
     "text": [
      "QtQ = [[ 1.00000000e+00  1.29741117e-17  8.47955907e-18 -2.62331543e-18\n",
      "   2.12807249e-17  4.14790262e-18]\n",
      " [ 1.29741117e-17  1.00000000e+00 -3.58854252e-17  5.47202371e-17\n",
      "   3.99474962e-17 -2.78996345e-17]\n",
      " [ 8.47955907e-18 -3.58854252e-17  1.00000000e+00  1.41700432e-16\n",
      "  -4.62181793e-17 -2.56925053e-17]\n",
      " [-2.62331543e-18  5.47202371e-17  1.41700432e-16  1.00000000e+00\n",
      "  -1.76365937e-16  1.22803840e-16]\n",
      " [ 2.12807249e-17  3.99474962e-17 -4.62181793e-17 -1.76365937e-16\n",
      "   1.00000000e+00  1.42966444e-16]\n",
      " [ 4.14790262e-18 -2.78996345e-17 -2.56925053e-17  1.22803840e-16\n",
      "   1.42966444e-16  1.00000000e+00]]\n",
      "QQt = [[ 1.00000000e+00 -4.22153282e-17  5.78433500e-17 -6.23845488e-17\n",
      "   9.07741521e-17  1.45121038e-17]\n",
      " [-4.22153282e-17  1.00000000e+00 -1.46920775e-20 -2.58981102e-16\n",
      "  -1.95988889e-17  4.23027455e-17]\n",
      " [ 5.78433500e-17 -1.46920775e-20  1.00000000e+00  7.60520234e-17\n",
      "  -7.37393762e-17  3.36563737e-17]\n",
      " [-6.23845488e-17 -2.58981102e-16  7.60520234e-17  1.00000000e+00\n",
      "   9.07296094e-17  6.28094708e-17]\n",
      " [ 9.07741521e-17 -1.95988889e-17 -7.37393762e-17  9.07296094e-17\n",
      "   1.00000000e+00  6.84548809e-17]\n",
      " [ 1.45121038e-17  4.23027455e-17  3.36563737e-17  6.28094708e-17\n",
      "   6.84548809e-17  1.00000000e+00]]\n",
      "QinvQ = [[ 1.00000000e+00  1.41382990e-17  4.96791466e-18 -1.73439078e-17\n",
      "   3.91336212e-17 -6.55268214e-17]\n",
      " [ 1.55234989e-16  1.00000000e+00  3.35035139e-17  7.55369188e-17\n",
      "  -7.80137002e-17  6.57754332e-17]\n",
      " [ 3.28526722e-17 -7.26154880e-17  1.00000000e+00 -1.34159724e-17\n",
      "   1.15305134e-16  4.52648841e-17]\n",
      " [-5.64867276e-17 -6.81442598e-17  7.79563679e-18  1.00000000e+00\n",
      "  -1.15844645e-16 -3.14202757e-17]\n",
      " [ 2.12914427e-17 -4.13751754e-18  8.11184522e-17 -1.55410074e-17\n",
      "   1.00000000e+00  7.97321733e-17]\n",
      " [-2.36404474e-17 -1.05661321e-16  6.93615290e-18  2.81200647e-17\n",
      "  -1.01823596e-16  1.00000000e+00]]\n",
      "QQinv = [[ 1.00000000e+00 -8.26486623e-19 -1.69010867e-17  5.42099401e-18\n",
      "  -7.95375877e-18  5.98981372e-18]\n",
      " [-7.75746112e-17  1.00000000e+00  1.58170943e-16  2.69224725e-17\n",
      "  -3.90066457e-17 -2.91467155e-17]\n",
      " [-7.35656883e-17 -1.41324285e-17  1.00000000e+00 -2.96111228e-17\n",
      "  -1.28690688e-17  1.12599543e-17]\n",
      " [-4.40777060e-19  8.11952588e-17 -1.96089066e-16  1.00000000e+00\n",
      "   2.98037910e-17  2.96392281e-17]\n",
      " [-2.48446784e-17 -2.18851252e-17  1.11276412e-16 -3.87750275e-17\n",
      "   1.00000000e+00 -6.10497560e-17]\n",
      " [ 7.65402533e-17 -3.94550972e-17  7.68581875e-17 -8.14791850e-18\n",
      "   1.08519794e-16  1.00000000e+00]]\n"
     ]
    }
   ],
   "source": [
    "A = np.random.randn(6, 6)\n",
    "\n",
    "Q, R = np.linalg.qr(A)\n",
    "Qinv = np.linalg.inv(Q)\n",
    "\n",
    "QtQ = Q.T @ Q \n",
    "QQt = Q @ Q.T \n",
    "QinvQ = Qinv @ Q \n",
    "QQinv = Q @ Qinv \n",
    "print(f'QtQ = {QtQ}')\n",
    "print(f'QQt = {QQt}')\n",
    "print(f'QinvQ = {QinvQ}')\n",
    "print(f'QQinv = {QQinv}')"
   ]
  },
  {
   "cell_type": "markdown",
   "metadata": {},
   "source": [
    "Exercise 9-2.\n",
    "Implement the Gram-Schmidt procedure as described earlier.4\n",
    " Use a 4 × 4 random\u0002numbers matrix. Check your answer against Q from np.linalg.qr.\n",
    "Important: there is a fundamental sign uncertainty in transformations like the\n",
    "Householder reflection. This means that vectors can “flip” (be multiplied by −1)\n",
    "depending on minor differences in algorithm and implementation. This feature exists\n",
    "in many matrix decompositions including eigenvectors. I have a longer and more\n",
    "in-depth discussion of why this is and what it means in Chapter 13. For now, the\n",
    "upshot is this: subtract your Q from Python’s Q and add your Q and Python’s Q.\n",
    "Nonzero columns in one will be zeros in the other."
   ]
  },
  {
   "cell_type": "code",
   "execution_count": 14,
   "metadata": {},
   "outputs": [],
   "source": [
    "def GS_process(A : np.array) : \n",
    "    Q = np.zeros(A.shape)\n",
    "\n",
    "    for i in range(A.shape[1]) : \n",
    "        Q[:, i] = A[:, i]\n",
    "        a = A[:, i]\n",
    "        for j in range(i) : \n",
    "            p = Q[:, j]\n",
    "            Q[:, i] = Q[:, i] - np.dot(a, p) / np.dot(p, p) * p\n",
    "        \n",
    "        Q[:, i] /= np.linalg.norm(Q[:, i])\n",
    "\n",
    "    return Q\n"
   ]
  },
  {
   "cell_type": "code",
   "execution_count": 15,
   "metadata": {},
   "outputs": [],
   "source": [
    "A = np.random.randn(4, 4)\n",
    "\n",
    "Q_1 = GS_process(A)\n",
    "\n",
    "Q_2, r = np.linalg.qr(A)"
   ]
  },
  {
   "cell_type": "code",
   "execution_count": 19,
   "metadata": {},
   "outputs": [
    {
     "data": {
      "image/png": "[encoded data removed]",
      "text/plain": [
       "<Figure size 640x480 with 3 Axes>"
      ]
     },
     "metadata": {},
     "output_type": "display_data"
    }
   ],
   "source": [
    "fig, ax = plt.subplots(ncols = 3)\n",
    "\n",
    "ax[0].imshow(Q_1)\n",
    "ax[0].set_title('My implement')\n",
    "\n",
    "ax[1].imshow(Q_2) \n",
    "ax[1].set_title('np.linalg.qr')\n",
    "\n",
    "ax[2].imshow(Q_1 - Q_2)\n",
    "ax[2].set_title('Subtract')\n",
    "\n",
    "plt.show()"
   ]
  },
  {
   "cell_type": "markdown",
   "metadata": {},
   "source": [
    "Exercise 9-3.\n",
    "In this exercise, you will find out what happens when you apply QR decomposition\n",
    "to a matrix that is almost-but-not-quite orthogonal. First, create an orthogonal matrix,\n",
    "called U, from the QR decomposition of a 6 × 6 random-numbers matrix. Compute\n",
    "the QR decomposition of U, and confirm that R = I (and make sure you understand\n",
    "why!).\n",
    "Second, modify the norms of each column of U. Set the norms of columns 1–6 to be\n",
    "10–15 (that is, the first column of U should have a norm of 10, the second column\n",
    "Code Exercises | 155\n",
    "should have a norm of 11, and so on). Run that modulated U matrix through QR\n",
    "decomposition and confirm that its R is a diagonal matrix with diagonal elements\n",
    "equaling 10–15. What is Q\n",
    "TQ for this matrix?\n",
    "Third, break the orthogonality of U by setting element u1, 4 = 0. What happens to R\n",
    "and why?\n"
   ]
  },
  {
   "cell_type": "code",
   "execution_count": null,
   "metadata": {},
   "outputs": [],
   "source": [
    "U = np.random.randn(6, 6)\n",
    "\n"
   ]
  }
 ],
 "metadata": {
  "kernelspec": {
   "display_name": "cs197",
   "language": "python",
   "name": "python3"
  },
  "language_info": {
   "codemirror_mode": {
    "name": "ipython",
    "version": 3
   },
   "file_extension": ".py",
   "mimetype": "text/x-python",
   "name": "python",
   "nbconvert_exporter": "python",
   "pygments_lexer": "ipython3",
   "version": "3.9.0"
  }
 },
 "nbformat": 4,
 "nbformat_minor": 2
}
