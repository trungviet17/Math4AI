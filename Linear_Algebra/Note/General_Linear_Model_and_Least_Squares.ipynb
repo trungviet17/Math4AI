{
 "cells": [
  {
   "cell_type": "markdown",
   "metadata": {},
   "source": [
    "# 1. Introduction \n",
    "- Statistic model (mô hình thống kê) là mô hình toán học đại diện cho các khía cạnh của thế giới thực, nó có thể đơn giản nhưng đôi khi cũng vô cùng phức tạp \n"
   ]
  },
  {
   "cell_type": "code",
   "execution_count": 20,
   "metadata": {},
   "outputs": [],
   "source": [
    "import numpy as np \n",
    "import scipy as sp \n",
    "import matplotlib.pyplot as plt \n",
    "import pandas as pd \n"
   ]
  },
  {
   "cell_type": "markdown",
   "metadata": {},
   "source": [
    "# 2. General Linear Models \n",
    "- Một mô hình thống kê là một tập các phương trình liên quan tới giá trị  dự đoán (biến độc lập) và các quan sát (biến phụ thuộc)\n",
    "- Kí hiệu trong mô hình thống kê và tuyến tính : \n",
    "<table>\n",
    "  <thead>\n",
    "    <tr>\n",
    "      <th>LinAlg</th>\n",
    "      <th>Stats</th>\n",
    "      <th>Description</th>\n",
    "    </tr>\n",
    "  </thead>\n",
    "  <tbody>\n",
    "  <tr>\n",
    "    <td>Ax = b</td>\n",
    "    <td>X $$\\beta$$ = y </td>\n",
    "    <td>Mô hình tuyến tính</td>\n",
    "  </tr>\n",
    "  <tr>\n",
    "    <td>A</td>\n",
    "    <td>X</td>\n",
    "    <td>Ma trận chứa input</td>\n",
    "  </tr>\n",
    "  <tr>\n",
    "    <td>x</td>\n",
    "    <td>$$\\beta$$</td>\n",
    "    <td>Ma trận hệ số</td>\n",
    "  </tr>\n",
    "  <tr>\n",
    "    <td>b</td>\n",
    "    <td>y</td>\n",
    "    <td>Ma trận dự đoán</td>\n",
    "  </tr>\n",
    "  \n",
    "  </tbody>\n",
    "</table>"
   ]
  },
  {
   "cell_type": "markdown",
   "metadata": {},
   "source": [
    "## Xây dựng mô hình GLM \n",
    "- Để xây dựng GLM người ta có các bước sau : \n",
    "    1. Xác định phương trình liên quan giữa biến độc lập và biến phụ thuộc \n",
    "    2. Chiếu các dữ liệu quan sát vào phương trình \n",
    "    3. Chuyển đổi chuỗi phương trình thành ma trận \n",
    "    4. Giải hệ phương trình đó "
   ]
  },
  {
   "cell_type": "markdown",
   "metadata": {},
   "source": [
    "- Ví dụ ta có bài toán dự đoán chiều cao dựa trên cân nặng và chiều cao của bố mẹ khi đó ta có y là biến phụ thuộc và các biến độc lập : $\\beta_{1}$ là chiều cao của bố mẹ,  $\\beta_{2}$ là cân nặng, $\\beta_{0}$ là hằng số, $\\epsilon$ là sai số : $$ y = \\beta_{0} + \\beta_{1}w + \\beta_{2}h + \\epsilon $$"
   ]
  },
  {
   "cell_type": "markdown",
   "metadata": {},
   "source": [
    "- Ta thực hiện mapping dữ liệu và chuyển hệ số trên thành ma trận và tính hệ số dựa vào ma trận "
   ]
  },
  {
   "cell_type": "code",
   "execution_count": 2,
   "metadata": {},
   "outputs": [],
   "source": [
    "y = np.random.randint(low = 160, high = 180, size=(4, 1))\n",
    "w = np.random.randint(low = 60, high = 90, size =(4, 1))\n",
    "h = np.random.randint(low = 160, high = 180, size =(4, 1) )\n",
    "\n",
    "A = np.concatenate([np.ones((4, 1)),  w, h], axis = 1) \n"
   ]
  },
  {
   "cell_type": "code",
   "execution_count": 3,
   "metadata": {},
   "outputs": [
    {
     "data": {
      "text/plain": [
       "array([[  1.,  88., 167.],\n",
       "       [  1.,  66., 161.],\n",
       "       [  1.,  74., 163.],\n",
       "       [  1.,  67., 170.]])"
      ]
     },
     "execution_count": 3,
     "metadata": {},
     "output_type": "execute_result"
    }
   ],
   "source": [
    "A"
   ]
  },
  {
   "cell_type": "code",
   "execution_count": 4,
   "metadata": {},
   "outputs": [
    {
     "data": {
      "text/plain": [
       "array([[167],\n",
       "       [167],\n",
       "       [173],\n",
       "       [175]])"
      ]
     },
     "execution_count": 4,
     "metadata": {},
     "output_type": "execute_result"
    }
   ],
   "source": [
    "y"
   ]
  },
  {
   "cell_type": "markdown",
   "metadata": {},
   "source": [
    "=> Nhiệm vụ của ta là giải hệ phương trình Ax = y như trên để tìm ra hệ số x"
   ]
  },
  {
   "cell_type": "markdown",
   "metadata": {},
   "source": [
    "## Solving GLMs \n",
    "- Để giải hệ phương trình trên, ta thực hiện khử X tại phía trái như sau : \n",
    "$$ Ax = y \\\\ (A^TA)^{-1}(A^TA)x =  (A^TA)^{-1}A^Ty \\\\ x = (A^TA)^{-1}A^Ty $$"
   ]
  },
  {
   "cell_type": "code",
   "execution_count": 5,
   "metadata": {},
   "outputs": [
    {
     "name": "stdout",
     "output_type": "stream",
     "text": [
      "[[84.84057167]\n",
      " [-0.22048009]\n",
      " [ 0.61676148]]\n"
     ]
    }
   ],
   "source": [
    "x = np.linalg.inv(A.T@A)@A.T@y\n",
    "print(x)"
   ]
  },
  {
   "cell_type": "markdown",
   "metadata": {},
   "source": [
    "=> Phương trình cuối cùng trên được gọi là dạng least-square \n",
    "- Tuy nhiên, có một câu hỏi được đặt ra là liệu ta có luôn luôn giải hệ phương trình trên được hay không ?. Câu trả lời là không, điều kiện để giải được hệ phương trình trên đó là ma trận y phải nằm trong không gian cột của X (trên thực tế điều này thường không xảy ra)\n",
    "- Nếu y trong columns space của A, điều này của nghĩa là mô hình đã capture lại 100% variance, điều này trên thực tế là không xảy ra do còn chứa những phần nhiễu ($\\epsilon$).  \n",
    "=> Do đó, người ta thường viết mô hình tuyến tính như sau : $$ Ax =  \\hat{y}  \\\\ \\hat{y} = y + \\epsilon $$\n",
    "=> Từ đó có thể thấy, mục tiêu của mô hình tuyến tính là tìm các hệ số x sao cho giá trị dự đoán (regressor) gần nhất với dữ liệu quan sát "
   ]
  },
  {
   "cell_type": "markdown",
   "metadata": {},
   "source": [
    "## Góc nhìn hình học trong Least Squares \n",
    "- Về góc nhìn hình học, ta chỉ cần đưa ra 2 khẳng định : \n",
    "    1. Liệu vector y (giá trị dự đoán) có nằm trong columns space của ma trận A hay không ? => Phần trên đã trả lời là không \n",
    "    2. Vậy vector nào nằm trong columns space gần nhất với vector y ? => hình chiếu của vector y xuống columns space của A, nhiệm vụ của ta là đi tìm các hệ số x sao cho vector $ \\hat{y} $ là hình chiếu của y xuống columns space của A \n",
    "    "
   ]
  },
  {
   "cell_type": "markdown",
   "metadata": {},
   "source": [
    "- Gọi $ Ax $ là hình chiếu của vector y lên trên columns space của A. Khi đó ta có: $$ A^T (y - Ax)  = 0 \\\\ A^T y - A^TAx  = 0 \\\\ x = (A^TA)^{-1}A^Ty $$  "
   ]
  },
  {
   "cell_type": "code",
   "execution_count": 21,
   "metadata": {},
   "outputs": [
    {
     "data": {
      "application/vnd.plotly.v1+json": {
       "config": {
        "plotlyServerURL": "https://plot.ly"
       },
       "data": [
        {
         "name": "Original Vector",
         "type": "scatter3d",
         "x": [
          0,
          1
         ],
         "y": [
          0,
          2
         ],
         "z": [
          0,
          3
         ]
        },
        {
         "name": "Projected Vector",
         "type": "scatter3d",
         "x": [
          0,
          -1
         ],
         "y": [
          0,
          0
         ],
         "z": [
          0,
          1
         ]
        },
        {
         "colorscale": [
          [
           0,
           "rgb(247,251,255)"
          ],
          [
           0.125,
           "rgb(222,235,247)"
          ],
          [
           0.25,
           "rgb(198,219,239)"
          ],
          [
           0.375,
           "rgb(158,202,225)"
          ],
          [
           0.5,
           "rgb(107,174,214)"
          ],
          [
           0.625,
           "rgb(66,146,198)"
          ],
          [
           0.75,
           "rgb(33,113,181)"
          ],
          [
           0.875,
           "rgb(8,81,156)"
          ],
          [
           1,
           "rgb(8,48,107)"
          ]
         ],
         "opacity": 0.5,
         "showscale": false,
         "type": "surface",
         "x": [
          [
           -5,
           -4,
           -3,
           -2,
           -1,
           0,
           1,
           2,
           3,
           4,
           5
          ],
          [
           -5,
           -4,
           -3,
           -2,
           -1,
           0,
           1,
           2,
           3,
           4,
           5
          ],
          [
           -5,
           -4,
           -3,
           -2,
           -1,
           0,
           1,
           2,
           3,
           4,
           5
          ],
          [
           -5,
           -4,
           -3,
           -2,
           -1,
           0,
           1,
           2,
           3,
           4,
           5
          ],
          [
           -5,
           -4,
           -3,
           -2,
           -1,
           0,
           1,
           2,
           3,
           4,
           5
          ],
          [
           -5,
           -4,
           -3,
           -2,
           -1,
           0,
           1,
           2,
           3,
           4,
           5
          ],
          [
           -5,
           -4,
           -3,
           -2,
           -1,
           0,
           1,
           2,
           3,
           4,
           5
          ],
          [
           -5,
           -4,
           -3,
           -2,
           -1,
           0,
           1,
           2,
           3,
           4,
           5
          ],
          [
           -5,
           -4,
           -3,
           -2,
           -1,
           0,
           1,
           2,
           3,
           4,
           5
          ],
          [
           -5,
           -4,
           -3,
           -2,
           -1,
           0,
           1,
           2,
           3,
           4,
           5
          ],
          [
           -5,
           -4,
           -3,
           -2,
           -1,
           0,
           1,
           2,
           3,
           4,
           5
          ]
         ],
         "y": [
          [
           -5,
           -5,
           -5,
           -5,
           -5,
           -5,
           -5,
           -5,
           -5,
           -5,
           -5
          ],
          [
           -4,
           -4,
           -4,
           -4,
           -4,
           -4,
           -4,
           -4,
           -4,
           -4,
           -4
          ],
          [
           -3,
           -3,
           -3,
           -3,
           -3,
           -3,
           -3,
           -3,
           -3,
           -3,
           -3
          ],
          [
           -2,
           -2,
           -2,
           -2,
           -2,
           -2,
           -2,
           -2,
           -2,
           -2,
           -2
          ],
          [
           -1,
           -1,
           -1,
           -1,
           -1,
           -1,
           -1,
           -1,
           -1,
           -1,
           -1
          ],
          [
           0,
           0,
           0,
           0,
           0,
           0,
           0,
           0,
           0,
           0,
           0
          ],
          [
           1,
           1,
           1,
           1,
           1,
           1,
           1,
           1,
           1,
           1,
           1
          ],
          [
           2,
           2,
           2,
           2,
           2,
           2,
           2,
           2,
           2,
           2,
           2
          ],
          [
           3,
           3,
           3,
           3,
           3,
           3,
           3,
           3,
           3,
           3,
           3
          ],
          [
           4,
           4,
           4,
           4,
           4,
           4,
           4,
           4,
           4,
           4,
           4
          ],
          [
           5,
           5,
           5,
           5,
           5,
           5,
           5,
           5,
           5,
           5,
           5
          ]
         ],
         "z": [
          [
           10,
           9,
           8,
           7,
           6,
           5,
           4,
           3,
           2,
           1,
           0
          ],
          [
           9,
           8,
           7,
           6,
           5,
           4,
           3,
           2,
           1,
           0,
           -1
          ],
          [
           8,
           7,
           6,
           5,
           4,
           3,
           2,
           1,
           0,
           -1,
           -2
          ],
          [
           7,
           6,
           5,
           4,
           3,
           2,
           1,
           0,
           -1,
           -2,
           -3
          ],
          [
           6,
           5,
           4,
           3,
           2,
           1,
           0,
           -1,
           -2,
           -3,
           -4
          ],
          [
           5,
           4,
           3,
           2,
           1,
           0,
           -1,
           -2,
           -3,
           -4,
           -5
          ],
          [
           4,
           3,
           2,
           1,
           0,
           -1,
           -2,
           -3,
           -4,
           -5,
           -6
          ],
          [
           3,
           2,
           1,
           0,
           -1,
           -2,
           -3,
           -4,
           -5,
           -6,
           -7
          ],
          [
           2,
           1,
           0,
           -1,
           -2,
           -3,
           -4,
           -5,
           -6,
           -7,
           -8
          ],
          [
           1,
           0,
           -1,
           -2,
           -3,
           -4,
           -5,
           -6,
           -7,
           -8,
           -9
          ],
          [
           0,
           -1,
           -2,
           -3,
           -4,
           -5,
           -6,
           -7,
           -8,
           -9,
           -10
          ]
         ]
        }
       ],
       "layout": {
        "scene": {
         "xaxis": {
          "title": {
           "text": "X"
          }
         },
         "yaxis": {
          "title": {
           "text": "Y"
          }
         },
         "zaxis": {
          "title": {
           "text": "Z"
          }
         }
        },
        "template": {
         "data": {
          "bar": [
           {
            "error_x": {
             "color": "#2a3f5f"
            },
            "error_y": {
             "color": "#2a3f5f"
            },
            "marker": {
             "line": {
              "color": "#E5ECF6",
              "width": 0.5
             },
             "pattern": {
              "fillmode": "overlay",
              "size": 10,
              "solidity": 0.2
             }
            },
            "type": "bar"
           }
          ],
          "barpolar": [
           {
            "marker": {
             "line": {
              "color": "#E5ECF6",
              "width": 0.5
             },
             "pattern": {
              "fillmode": "overlay",
              "size": 10,
              "solidity": 0.2
             }
            },
            "type": "barpolar"
           }
          ],
          "carpet": [
           {
            "aaxis": {
             "endlinecolor": "#2a3f5f",
             "gridcolor": "white",
             "linecolor": "white",
             "minorgridcolor": "white",
             "startlinecolor": "#2a3f5f"
            },
            "baxis": {
             "endlinecolor": "#2a3f5f",
             "gridcolor": "white",
             "linecolor": "white",
             "minorgridcolor": "white",
             "startlinecolor": "#2a3f5f"
            },
            "type": "carpet"
           }
          ],
          "choropleth": [
           {
            "colorbar": {
             "outlinewidth": 0,
             "ticks": ""
            },
            "type": "choropleth"
           }
          ],
          "contour": [
           {
            "colorbar": {
             "outlinewidth": 0,
             "ticks": ""
            },
            "colorscale": [
             [
              0,
              "#0d0887"
             ],
             [
              0.1111111111111111,
              "#46039f"
             ],
             [
              0.2222222222222222,
              "#7201a8"
             ],
             [
              0.3333333333333333,
              "#9c179e"
             ],
             [
              0.4444444444444444,
              "#bd3786"
             ],
             [
              0.5555555555555556,
              "#d8576b"
             ],
             [
              0.6666666666666666,
              "#ed7953"
             ],
             [
              0.7777777777777778,
              "#fb9f3a"
             ],
             [
              0.8888888888888888,
              "#fdca26"
             ],
             [
              1,
              "#f0f921"
             ]
            ],
            "type": "contour"
           }
          ],
          "contourcarpet": [
           {
            "colorbar": {
             "outlinewidth": 0,
             "ticks": ""
            },
            "type": "contourcarpet"
           }
          ],
          "heatmap": [
           {
            "colorbar": {
             "outlinewidth": 0,
             "ticks": ""
            },
            "colorscale": [
             [
              0,
              "#0d0887"
             ],
             [
              0.1111111111111111,
              "#46039f"
             ],
             [
              0.2222222222222222,
              "#7201a8"
             ],
             [
              0.3333333333333333,
              "#9c179e"
             ],
             [
              0.4444444444444444,
              "#bd3786"
             ],
             [
              0.5555555555555556,
              "#d8576b"
             ],
             [
              0.6666666666666666,
              "#ed7953"
             ],
             [
              0.7777777777777778,
              "#fb9f3a"
             ],
             [
              0.8888888888888888,
              "#fdca26"
             ],
             [
              1,
              "#f0f921"
             ]
            ],
            "type": "heatmap"
           }
          ],
          "heatmapgl": [
           {
            "colorbar": {
             "outlinewidth": 0,
             "ticks": ""
            },
            "colorscale": [
             [
              0,
              "#0d0887"
             ],
             [
              0.1111111111111111,
              "#46039f"
             ],
             [
              0.2222222222222222,
              "#7201a8"
             ],
             [
              0.3333333333333333,
              "#9c179e"
             ],
             [
              0.4444444444444444,
              "#bd3786"
             ],
             [
              0.5555555555555556,
              "#d8576b"
             ],
             [
              0.6666666666666666,
              "#ed7953"
             ],
             [
              0.7777777777777778,
              "#fb9f3a"
             ],
             [
              0.8888888888888888,
              "#fdca26"
             ],
             [
              1,
              "#f0f921"
             ]
            ],
            "type": "heatmapgl"
           }
          ],
          "histogram": [
           {
            "marker": {
             "pattern": {
              "fillmode": "overlay",
              "size": 10,
              "solidity": 0.2
             }
            },
            "type": "histogram"
           }
          ],
          "histogram2d": [
           {
            "colorbar": {
             "outlinewidth": 0,
             "ticks": ""
            },
            "colorscale": [
             [
              0,
              "#0d0887"
             ],
             [
              0.1111111111111111,
              "#46039f"
             ],
             [
              0.2222222222222222,
              "#7201a8"
             ],
             [
              0.3333333333333333,
              "#9c179e"
             ],
             [
              0.4444444444444444,
              "#bd3786"
             ],
             [
              0.5555555555555556,
              "#d8576b"
             ],
             [
              0.6666666666666666,
              "#ed7953"
             ],
             [
              0.7777777777777778,
              "#fb9f3a"
             ],
             [
              0.8888888888888888,
              "#fdca26"
             ],
             [
              1,
              "#f0f921"
             ]
            ],
            "type": "histogram2d"
           }
          ],
          "histogram2dcontour": [
           {
            "colorbar": {
             "outlinewidth": 0,
             "ticks": ""
            },
            "colorscale": [
             [
              0,
              "#0d0887"
             ],
             [
              0.1111111111111111,
              "#46039f"
             ],
             [
              0.2222222222222222,
              "#7201a8"
             ],
             [
              0.3333333333333333,
              "#9c179e"
             ],
             [
              0.4444444444444444,
              "#bd3786"
             ],
             [
              0.5555555555555556,
              "#d8576b"
             ],
             [
              0.6666666666666666,
              "#ed7953"
             ],
             [
              0.7777777777777778,
              "#fb9f3a"
             ],
             [
              0.8888888888888888,
              "#fdca26"
             ],
             [
              1,
              "#f0f921"
             ]
            ],
            "type": "histogram2dcontour"
           }
          ],
          "mesh3d": [
           {
            "colorbar": {
             "outlinewidth": 0,
             "ticks": ""
            },
            "type": "mesh3d"
           }
          ],
          "parcoords": [
           {
            "line": {
             "colorbar": {
              "outlinewidth": 0,
              "ticks": ""
             }
            },
            "type": "parcoords"
           }
          ],
          "pie": [
           {
            "automargin": true,
            "type": "pie"
           }
          ],
          "scatter": [
           {
            "fillpattern": {
             "fillmode": "overlay",
             "size": 10,
             "solidity": 0.2
            },
            "type": "scatter"
           }
          ],
          "scatter3d": [
           {
            "line": {
             "colorbar": {
              "outlinewidth": 0,
              "ticks": ""
             }
            },
            "marker": {
             "colorbar": {
              "outlinewidth": 0,
              "ticks": ""
             }
            },
            "type": "scatter3d"
           }
          ],
          "scattercarpet": [
           {
            "marker": {
             "colorbar": {
              "outlinewidth": 0,
              "ticks": ""
             }
            },
            "type": "scattercarpet"
           }
          ],
          "scattergeo": [
           {
            "marker": {
             "colorbar": {
              "outlinewidth": 0,
              "ticks": ""
             }
            },
            "type": "scattergeo"
           }
          ],
          "scattergl": [
           {
            "marker": {
             "colorbar": {
              "outlinewidth": 0,
              "ticks": ""
             }
            },
            "type": "scattergl"
           }
          ],
          "scattermapbox": [
           {
            "marker": {
             "colorbar": {
              "outlinewidth": 0,
              "ticks": ""
             }
            },
            "type": "scattermapbox"
           }
          ],
          "scatterpolar": [
           {
            "marker": {
             "colorbar": {
              "outlinewidth": 0,
              "ticks": ""
             }
            },
            "type": "scatterpolar"
           }
          ],
          "scatterpolargl": [
           {
            "marker": {
             "colorbar": {
              "outlinewidth": 0,
              "ticks": ""
             }
            },
            "type": "scatterpolargl"
           }
          ],
          "scatterternary": [
           {
            "marker": {
             "colorbar": {
              "outlinewidth": 0,
              "ticks": ""
             }
            },
            "type": "scatterternary"
           }
          ],
          "surface": [
           {
            "colorbar": {
             "outlinewidth": 0,
             "ticks": ""
            },
            "colorscale": [
             [
              0,
              "#0d0887"
             ],
             [
              0.1111111111111111,
              "#46039f"
             ],
             [
              0.2222222222222222,
              "#7201a8"
             ],
             [
              0.3333333333333333,
              "#9c179e"
             ],
             [
              0.4444444444444444,
              "#bd3786"
             ],
             [
              0.5555555555555556,
              "#d8576b"
             ],
             [
              0.6666666666666666,
              "#ed7953"
             ],
             [
              0.7777777777777778,
              "#fb9f3a"
             ],
             [
              0.8888888888888888,
              "#fdca26"
             ],
             [
              1,
              "#f0f921"
             ]
            ],
            "type": "surface"
           }
          ],
          "table": [
           {
            "cells": {
             "fill": {
              "color": "#EBF0F8"
             },
             "line": {
              "color": "white"
             }
            },
            "header": {
             "fill": {
              "color": "#C8D4E3"
             },
             "line": {
              "color": "white"
             }
            },
            "type": "table"
           }
          ]
         },
         "layout": {
          "annotationdefaults": {
           "arrowcolor": "#2a3f5f",
           "arrowhead": 0,
           "arrowwidth": 1
          },
          "autotypenumbers": "strict",
          "coloraxis": {
           "colorbar": {
            "outlinewidth": 0,
            "ticks": ""
           }
          },
          "colorscale": {
           "diverging": [
            [
             0,
             "#8e0152"
            ],
            [
             0.1,
             "#c51b7d"
            ],
            [
             0.2,
             "#de77ae"
            ],
            [
             0.3,
             "#f1b6da"
            ],
            [
             0.4,
             "#fde0ef"
            ],
            [
             0.5,
             "#f7f7f7"
            ],
            [
             0.6,
             "#e6f5d0"
            ],
            [
             0.7,
             "#b8e186"
            ],
            [
             0.8,
             "#7fbc41"
            ],
            [
             0.9,
             "#4d9221"
            ],
            [
             1,
             "#276419"
            ]
           ],
           "sequential": [
            [
             0,
             "#0d0887"
            ],
            [
             0.1111111111111111,
             "#46039f"
            ],
            [
             0.2222222222222222,
             "#7201a8"
            ],
            [
             0.3333333333333333,
             "#9c179e"
            ],
            [
             0.4444444444444444,
             "#bd3786"
            ],
            [
             0.5555555555555556,
             "#d8576b"
            ],
            [
             0.6666666666666666,
             "#ed7953"
            ],
            [
             0.7777777777777778,
             "#fb9f3a"
            ],
            [
             0.8888888888888888,
             "#fdca26"
            ],
            [
             1,
             "#f0f921"
            ]
           ],
           "sequentialminus": [
            [
             0,
             "#0d0887"
            ],
            [
             0.1111111111111111,
             "#46039f"
            ],
            [
             0.2222222222222222,
             "#7201a8"
            ],
            [
             0.3333333333333333,
             "#9c179e"
            ],
            [
             0.4444444444444444,
             "#bd3786"
            ],
            [
             0.5555555555555556,
             "#d8576b"
            ],
            [
             0.6666666666666666,
             "#ed7953"
            ],
            [
             0.7777777777777778,
             "#fb9f3a"
            ],
            [
             0.8888888888888888,
             "#fdca26"
            ],
            [
             1,
             "#f0f921"
            ]
           ]
          },
          "colorway": [
           "#636efa",
           "#EF553B",
           "#00cc96",
           "#ab63fa",
           "#FFA15A",
           "#19d3f3",
           "#FF6692",
           "#B6E880",
           "#FF97FF",
           "#FECB52"
          ],
          "font": {
           "color": "#2a3f5f"
          },
          "geo": {
           "bgcolor": "white",
           "lakecolor": "white",
           "landcolor": "#E5ECF6",
           "showlakes": true,
           "showland": true,
           "subunitcolor": "white"
          },
          "hoverlabel": {
           "align": "left"
          },
          "hovermode": "closest",
          "mapbox": {
           "style": "light"
          },
          "paper_bgcolor": "white",
          "plot_bgcolor": "#E5ECF6",
          "polar": {
           "angularaxis": {
            "gridcolor": "white",
            "linecolor": "white",
            "ticks": ""
           },
           "bgcolor": "#E5ECF6",
           "radialaxis": {
            "gridcolor": "white",
            "linecolor": "white",
            "ticks": ""
           }
          },
          "scene": {
           "xaxis": {
            "backgroundcolor": "#E5ECF6",
            "gridcolor": "white",
            "gridwidth": 2,
            "linecolor": "white",
            "showbackground": true,
            "ticks": "",
            "zerolinecolor": "white"
           },
           "yaxis": {
            "backgroundcolor": "#E5ECF6",
            "gridcolor": "white",
            "gridwidth": 2,
            "linecolor": "white",
            "showbackground": true,
            "ticks": "",
            "zerolinecolor": "white"
           },
           "zaxis": {
            "backgroundcolor": "#E5ECF6",
            "gridcolor": "white",
            "gridwidth": 2,
            "linecolor": "white",
            "showbackground": true,
            "ticks": "",
            "zerolinecolor": "white"
           }
          },
          "shapedefaults": {
           "line": {
            "color": "#2a3f5f"
           }
          },
          "ternary": {
           "aaxis": {
            "gridcolor": "white",
            "linecolor": "white",
            "ticks": ""
           },
           "baxis": {
            "gridcolor": "white",
            "linecolor": "white",
            "ticks": ""
           },
           "bgcolor": "#E5ECF6",
           "caxis": {
            "gridcolor": "white",
            "linecolor": "white",
            "ticks": ""
           }
          },
          "title": {
           "x": 0.05
          },
          "xaxis": {
           "automargin": true,
           "gridcolor": "white",
           "linecolor": "white",
           "ticks": "",
           "title": {
            "standoff": 15
           },
           "zerolinecolor": "white",
           "zerolinewidth": 2
          },
          "yaxis": {
           "automargin": true,
           "gridcolor": "white",
           "linecolor": "white",
           "ticks": "",
           "title": {
            "standoff": 15
           },
           "zerolinecolor": "white",
           "zerolinewidth": 2
          }
         }
        }
       }
      }
     },
     "metadata": {},
     "output_type": "display_data"
    }
   ],
   "source": [
    "import plotly.graph_objects as go\n",
    "\n",
    "\n",
    "# Tạo vector\n",
    "vector = np.array([1, 2, 3])\n",
    "\n",
    "# Tạo vector pháp tuyến cho mặt phẳng (ví dụ: phương trình mặt phẳng x + y + z = 0)\n",
    "normal_vector = np.array([1, 1, 1])\n",
    "\n",
    "# Tính toán hình chiếu của vector lên mặt phẳng\n",
    "projection = vector - np.dot(vector, normal_vector) / np.dot(normal_vector, normal_vector) * normal_vector\n",
    "\n",
    "# Tạo mặt phẳng\n",
    "xx, yy = np.meshgrid(range(-5, 6), range(-5, 6))\n",
    "zz = -(normal_vector[0]*xx + normal_vector[1]*yy) / normal_vector[2]\n",
    "\n",
    "# Tạo dữ liệu cho plotly\n",
    "data = [\n",
    "    go.Scatter3d(x=[0, vector[0]], y=[0, vector[1]], z=[0, vector[2]], name=\"Original Vector\"),\n",
    "    go.Scatter3d(x=[0, projection[0]], y=[0, projection[1]], z=[0, projection[2]], name=\"Projected Vector\"),\n",
    "    go.Surface(x=xx, y=yy, z=zz, opacity=0.5, colorscale='blues', showscale=False)\n",
    "]\n",
    "\n",
    "# Tạo layout cho plot\n",
    "layout = go.Layout(scene=dict(\n",
    "                    xaxis=dict(title='X'),\n",
    "                    yaxis=dict(title='Y'),\n",
    "                    zaxis=dict(title='Z')))\n",
    "\n",
    "# Tạo figure và vẽ\n",
    "fig = go.Figure(data=data, layout=layout)\n",
    "fig.show()\n"
   ]
  },
  {
   "cell_type": "markdown",
   "metadata": {},
   "source": [
    "## Góc nhìn giải tích trong Least Square \n",
    "- Mục tiêu của việc xây dựng mô hình đó là giảm thiểu sai số nhất có thể (đã để cập ở trên). Tuy nhiên sai số có thể âm hoặc dương do đó, ta có từ \"square\" để chỉ bình phương của sai số. Khi đó thực chất bài toán trở thành bài toán tối ưu:  $$ \\min _{x} || Ax - y ||^2 $$ \n",
    "- Dưới góc nhìn giải tích, ta có thể sử dụng đạo hàm để tìm điểm cực tiểu của hàm số trên và kết  quả cũng dẫn tới solution như trên : $$ 2A^T(Ax - y) = 0  \\\\ A^TAx = A^Ty \\\\ x = (A^TA)^{-1}A^Ty $$"
   ]
  },
  {
   "cell_type": "markdown",
   "metadata": {},
   "source": [
    "# 3. Ví dụ về GLM "
   ]
  },
  {
   "cell_type": "code",
   "execution_count": 41,
   "metadata": {},
   "outputs": [
    {
     "data": {
      "image/png": "[encoded data removed]",
      "text/plain": [
       "<Figure size 1000x600 with 1 Axes>"
      ]
     },
     "metadata": {},
     "output_type": "display_data"
    }
   ],
   "source": [
    "# fake data \n",
    "\n",
    "def fake_func(x): \n",
    "    return 5 * x + 7 +  np.random.randint(low=-100, high = 100, size = 1)\n",
    "\n",
    "x = np.random.randint(low = 1, high = 70, size = (25, 1))\n",
    "y = np.array([fake_func(i) for i in list(x)])\n",
    "\n",
    "fig, ax = plt.subplots(figsize = (10, 6))\n",
    "\n",
    "ax.scatter(x, y)\n",
    "\n",
    "\n",
    "plt.show()"
   ]
  },
  {
   "cell_type": "markdown",
   "metadata": {},
   "source": [
    "- Sử dụng close form ở trên, ta có thể tính được giá trị của tham số x trong phương trình trên và fit mô hình ta có :"
   ]
  },
  {
   "cell_type": "code",
   "execution_count": 42,
   "metadata": {},
   "outputs": [
    {
     "data": {
      "image/png": "[encoded data removed]",
      "text/plain": [
       "<Figure size 1000x600 with 1 Axes>"
      ]
     },
     "metadata": {},
     "output_type": "display_data"
    }
   ],
   "source": [
    "beta = np.linalg.inv(x.T @ x) @ x.T @ y \n",
    "\n",
    "y_hat =  x @ beta\n",
    "fig, ax = plt.subplots(figsize = (10, 6))\n",
    "\n",
    "ax.scatter(x, y)\n",
    "ax.plot(x, y_hat, color = 'r')\n",
    "\n",
    "plt.show()"
   ]
  },
  {
   "cell_type": "code",
   "execution_count": 43,
   "metadata": {},
   "outputs": [
    {
     "name": "stdout",
     "output_type": "stream",
     "text": [
      "MSE: [93892.98143154]\n"
     ]
    }
   ],
   "source": [
    "mse = 0 \n",
    "for i in range(len(y_hat)) : \n",
    "    mse += (y[i] - y_hat[i]) ** 2 \n",
    "\n",
    "print(f'MSE: {mse}')"
   ]
  },
  {
   "cell_type": "markdown",
   "metadata": {},
   "source": [
    "- Xét thêm hằng số cho phương trình : $ y = ax + b $ :"
   ]
  },
  {
   "cell_type": "code",
   "execution_count": 45,
   "metadata": {},
   "outputs": [
    {
     "data": {
      "image/png": "[encoded data removed]",
      "text/plain": [
       "<Figure size 1000x600 with 1 Axes>"
      ]
     },
     "metadata": {},
     "output_type": "display_data"
    }
   ],
   "source": [
    "X = np.hstack((np.ones((25, 1)), x))\n",
    "\n",
    "beta = np.linalg.inv(X.T @ X) @ X.T @ y \n",
    "\n",
    "y_hat =  X @ beta\n",
    "fig, ax = plt.subplots(figsize = (10, 6))\n",
    "\n",
    "ax.scatter(X[:, 1], y)\n",
    "ax.plot(X[:, 1], y_hat, color = 'r')\n",
    "\n",
    "plt.show()\n"
   ]
  },
  {
   "cell_type": "code",
   "execution_count": 46,
   "metadata": {},
   "outputs": [
    {
     "name": "stdout",
     "output_type": "stream",
     "text": [
      "MSE: [91222.36115743]\n"
     ]
    }
   ],
   "source": [
    "mse = 0 \n",
    "for i in range(len(y_hat)) : \n",
    "    mse += (y[i] - y_hat[i]) ** 2 \n",
    "\n",
    "print(f'MSE: {mse}')"
   ]
  },
  {
   "cell_type": "markdown",
   "metadata": {},
   "source": [
    "# 4. Least Squares thông qua QR \n",
    "- Việc tính toán ma trận nghịch đảo trực tiếp có thể gây ra sai số, người ta có thể sử dụng phép tách QR phục vụ cho việc tính Least square. \n",
    "- Ta có thể áp dụng như sau : $$ Ax = y \\\\ QRx = y \\\\ Rx = Q^Ty \\\\ x = R^{-1}Q^Ty $$\n",
    "- Sử dụng QR sẽ không cần tính $ X^TX$ và ma trận nghịch đảo "
   ]
  }
 ],
 "metadata": {
  "kernelspec": {
   "display_name": "study",
   "language": "python",
   "name": "python3"
  },
  "language_info": {
   "codemirror_mode": {
    "name": "ipython",
    "version": 3
   },
   "file_extension": ".py",
   "mimetype": "text/x-python",
   "name": "python",
   "nbconvert_exporter": "python",
   "pygments_lexer": "ipython3",
   "version": "3.11.9"
  }
 },
 "nbformat": 4,
 "nbformat_minor": 2
}
